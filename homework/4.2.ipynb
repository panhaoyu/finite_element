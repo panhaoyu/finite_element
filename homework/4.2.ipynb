{
 "cells": [
  {
   "cell_type": "markdown",
   "metadata": {
    "collapsed": true
   },
   "source": [
    "# 4.2\n",
    "如图所示的二次三角形单元，试计算$\\frac{\\partial N_4}{\\partial x}$和$\\frac{\\partial N_4}{\\partial y}$在点$P(1.5,2.0)$的数值。"
   ]
  },
  {
   "cell_type": "code",
   "execution_count": null,
   "metadata": {},
   "outputs": [],
   "source": [
    "import sympy\n",
    "from sympy import Matrix, Rational, Symbol\n",
    "from sympy.abc import x, y\n",
    "from finite_element.interpolation import SurfaceExclude, Isoparametric\n",
    "from finite_element.interpolation.utils import convert_coordinate_global_to_local_triangular\n",
    "sympy.init_printing()"
   ]
  },
  {
   "cell_type": "markdown",
   "metadata": {},
   "source": [
    "## 定义变量"
   ]
  },
  {
   "cell_type": "code",
   "execution_count": 2,
   "metadata": {},
   "outputs": [
    {
     "data": {
      "image/png": "[encoded data removed]",
      "text/plain": [
       "(L₁, L₂)"
      ]
     },
     "execution_count": 2,
     "metadata": {},
     "output_type": "execute_result"
    }
   ],
   "source": [
    "L1 = Symbol('L_1')\n",
    "L2 = Symbol('L_2')\n",
    "L1, L2"
   ]
  },
  {
   "cell_type": "markdown",
   "metadata": {},
   "source": [
    "## 局部坐标与整体坐标"
   ]
  },
  {
   "cell_type": "code",
   "execution_count": 3,
   "metadata": {},
   "outputs": [
    {
     "data": {
      "image/png": "[encoded data removed]",
      "text/plain": [
       "[[0, 0], [4, 2], [1, 4], [2, 1], [5/2, 3], [1/2, 2]]"
      ]
     },
     "execution_count": 3,
     "metadata": {},
     "output_type": "execute_result"
    }
   ],
   "source": [
    "global_coordinates = [\n",
    "    [0, 0], [4, 2], [1, 4],\n",
    "    [Rational(4, 2), Rational(2, 2)],\n",
    "    [Rational(5, 2), Rational(6, 2)],\n",
    "    [Rational(1, 2), Rational(4, 2)],\n",
    "]\n",
    "global_coordinates"
   ]
  },
  {
   "cell_type": "code",
   "execution_count": 4,
   "metadata": {},
   "outputs": [
    {
     "data": {
      "image/png": "[encoded data removed]",
      "text/plain": [
       "[[1, 0], [0, 1], [0, 0], [1/2, 1/2], [0, 1/2], [1/2, 0]]"
      ]
     },
     "execution_count": 4,
     "metadata": {},
     "output_type": "execute_result"
    }
   ],
   "source": [
    "local_coordinates = [\n",
    "    [1, 0],\n",
    "    [0, 1],\n",
    "    [0, 0],\n",
    "    [Rational(1,2), Rational(1,2)],\n",
    "    [0, Rational(1,2)],\n",
    "    [Rational(1,2), 0],\n",
    "]\n",
    "local_coordinates"
   ]
  },
  {
   "cell_type": "markdown",
   "metadata": {},
   "source": [
    "## 划线法得到插值函数"
   ]
  },
  {
   "cell_type": "code",
   "execution_count": 5,
   "metadata": {},
   "outputs": [
    {
     "data": {
      "text/latex": [
       "$\\displaystyle \\left[\\begin{matrix}L_{1}\\\\L_{2}\\\\- L_{1} - L_{2} + 1\\\\4 L_{1} L_{2}\\\\- 4 L_{2} \\left(L_{1} + L_{2} - 1\\right)\\\\- 4 L_{1} \\left(L_{1} + L_{2} - 1\\right)\\end{matrix}\\right]$"
      ],
      "text/plain": [
       "⎡        L₁         ⎤\n",
       "⎢                   ⎥\n",
       "⎢        L₂         ⎥\n",
       "⎢                   ⎥\n",
       "⎢   -L₁ - L₂ + 1    ⎥\n",
       "⎢                   ⎥\n",
       "⎢      4⋅L₁⋅L₂      ⎥\n",
       "⎢                   ⎥\n",
       "⎢-4⋅L₂⋅(L₁ + L₂ - 1)⎥\n",
       "⎢                   ⎥\n",
       "⎣-4⋅L₁⋅(L₁ + L₂ - 1)⎦"
      ]
     },
     "execution_count": 5,
     "metadata": {},
     "output_type": "execute_result"
    }
   ],
   "source": [
    "surface_exclude = SurfaceExclude([L1,L2])\n",
    "surface_exclude.add_surface(L1)\n",
    "surface_exclude.add_surface(L2)\n",
    "surface_exclude.add_surface(1-L1-L2)\n",
    "interpolation_functions = [\n",
    "    surface_exclude.get_interpolation_function(coordinate)\n",
    "    for coordinate in local_coordinates\n",
    "]\n",
    "Matrix(interpolation_functions)"
   ]
  },
  {
   "cell_type": "markdown",
   "metadata": {},
   "source": [
    "## 初始化等参单元"
   ]
  },
  {
   "cell_type": "code",
   "execution_count": 6,
   "metadata": {},
   "outputs": [],
   "source": [
    "isoparametric = Isoparametric(\n",
    "    local_axises=[L1, L2],\n",
    "    global_axises=[x, y],\n",
    "    interpolation_functions=interpolation_functions,\n",
    "    coordinates=global_coordinates,\n",
    ")"
   ]
  },
  {
   "cell_type": "markdown",
   "metadata": {},
   "source": [
    "## 计算雅克比矩阵"
   ]
  },
  {
   "cell_type": "code",
   "execution_count": 7,
   "metadata": {},
   "outputs": [
    {
     "data": {
      "text/latex": [
       "$\\displaystyle \\left[\\begin{matrix}- 4 L_{1} - 4 L_{2} + 1 & - 16 L_{1} - 16 L_{2} + 4\\\\- 4 L_{1} - 20 L_{2} + 13 & - 16 L_{1} - 24 L_{2} + 10\\end{matrix}\\right]$"
      ],
      "text/plain": [
       "⎡ -4⋅L₁ - 4⋅L₂ + 1   -16⋅L₁ - 16⋅L₂ + 4 ⎤\n",
       "⎢                                       ⎥\n",
       "⎣-4⋅L₁ - 20⋅L₂ + 13  -16⋅L₁ - 24⋅L₂ + 10⎦"
      ]
     },
     "execution_count": 7,
     "metadata": {},
     "output_type": "execute_result"
    }
   ],
   "source": [
    "isoparametric.jacobian"
   ]
  },
  {
   "cell_type": "markdown",
   "metadata": {},
   "source": [
    "## 计算插值函数对整体坐标的导数"
   ]
  },
  {
   "cell_type": "code",
   "execution_count": 8,
   "metadata": {},
   "outputs": [
    {
     "data": {
      "text/latex": [
       "$\\displaystyle \\left[\\begin{matrix}\\frac{8 L_{1} + 12 L_{2} - 5}{7 \\left(4 L_{2} - 3\\right) \\left(4 L_{1} + 4 L_{2} - 1\\right)} & - \\frac{2}{7 \\left(4 L_{2} - 3\\right)} & - \\frac{1}{7 \\left(4 L_{1} + 4 L_{2} - 1\\right)} & - \\frac{4 \\left(8 L_{1}^{2} - 2 L_{1} - 12 L_{2}^{2} + 5 L_{2}\\right)}{7 \\left(4 L_{2} - 3\\right) \\left(4 L_{1} + 4 L_{2} - 1\\right)} & \\frac{4 \\left(8 L_{1}^{2} + 16 L_{1} L_{2} - 10 L_{1} + 4 L_{2}^{2} - 7 L_{2} + 2\\right)}{7 \\left(4 L_{2} - 3\\right) \\left(4 L_{1} + 4 L_{2} - 1\\right)} & - \\frac{4 \\left(8 L_{1}^{2} + 24 L_{1} L_{2} - 16 L_{1} + 12 L_{2}^{2} - 17 L_{2} + 5\\right)}{7 \\left(4 L_{2} - 3\\right) \\left(4 L_{1} + 4 L_{2} - 1\\right)}\\\\- \\frac{4 L_{1} + 20 L_{2} - 13}{14 \\left(4 L_{2} - 3\\right) \\left(4 L_{1} + 4 L_{2} - 1\\right)} & \\frac{1}{14 \\left(4 L_{2} - 3\\right)} & \\frac{2}{7 \\left(4 L_{1} + 4 L_{2} - 1\\right)} & \\frac{2 \\left(4 L_{1}^{2} - L_{1} - 20 L_{2}^{2} + 13 L_{2}\\right)}{7 \\left(4 L_{2} - 3\\right) \\left(4 L_{1} + 4 L_{2} - 1\\right)} & - \\frac{2 \\left(4 L_{1}^{2} + 8 L_{1} L_{2} - 5 L_{1} - 12 L_{2}^{2} + 7 L_{2} + 1\\right)}{7 \\left(4 L_{2} - 3\\right) \\left(4 L_{1} + 4 L_{2} - 1\\right)} & \\frac{2 \\left(4 L_{1}^{2} + 40 L_{1} L_{2} - 29 L_{1} + 20 L_{2}^{2} - 33 L_{2} + 13\\right)}{7 \\left(4 L_{2} - 3\\right) \\left(4 L_{1} + 4 L_{2} - 1\\right)}\\end{matrix}\\right]$"
      ],
      "text/plain": [
       "⎡                                                                        ⎛    \n",
       "⎢       8⋅L₁ + 12⋅L₂ - 5              -2                 -1           -4⋅⎝8⋅L₁\n",
       "⎢──────────────────────────────   ────────────   ───────────────────  ────────\n",
       "⎢7⋅(4⋅L₂ - 3)⋅(4⋅L₁ + 4⋅L₂ - 1)   7⋅(4⋅L₂ - 3)   7⋅(4⋅L₁ + 4⋅L₂ - 1)    7⋅(4⋅L\n",
       "⎢                                                                             \n",
       "⎢                                                                        ⎛    \n",
       "⎢     -(4⋅L₁ + 20⋅L₂ - 13)              1                 2            2⋅⎝4⋅L₁\n",
       "⎢───────────────────────────────  ─────────────  ───────────────────   ───────\n",
       "⎣14⋅(4⋅L₂ - 3)⋅(4⋅L₁ + 4⋅L₂ - 1)  14⋅(4⋅L₂ - 3)  7⋅(4⋅L₁ + 4⋅L₂ - 1)    7⋅(4⋅L\n",
       "\n",
       "2               2       ⎞     ⎛    2                          2           ⎞   \n",
       "  - 2⋅L₁ - 12⋅L₂  + 5⋅L₂⎠   4⋅⎝8⋅L₁  + 16⋅L₁⋅L₂ - 10⋅L₁ + 4⋅L₂  - 7⋅L₂ + 2⎠   \n",
       "──────────────────────────  ───────────────────────────────────────────────   \n",
       "₂ - 3)⋅(4⋅L₁ + 4⋅L₂ - 1)             7⋅(4⋅L₂ - 3)⋅(4⋅L₁ + 4⋅L₂ - 1)           \n",
       "                                                                              \n",
       "2             2        ⎞       ⎛    2                         2           ⎞   \n",
       "  - L₁ - 20⋅L₂  + 13⋅L₂⎠    -2⋅⎝4⋅L₁  + 8⋅L₁⋅L₂ - 5⋅L₁ - 12⋅L₂  + 7⋅L₂ + 1⎠   \n",
       "────────────────────────    ────────────────────────────────────────────────  \n",
       "₂ - 3)⋅(4⋅L₁ + 4⋅L₂ - 1)             7⋅(4⋅L₂ - 3)⋅(4⋅L₁ + 4⋅L₂ - 1)           \n",
       "\n",
       "   ⎛    2                           2            ⎞ ⎤\n",
       "-4⋅⎝8⋅L₁  + 24⋅L₁⋅L₂ - 16⋅L₁ + 12⋅L₂  - 17⋅L₂ + 5⎠ ⎥\n",
       "───────────────────────────────────────────────────⎥\n",
       "           7⋅(4⋅L₂ - 3)⋅(4⋅L₁ + 4⋅L₂ - 1)          ⎥\n",
       "                                                   ⎥\n",
       "  ⎛    2                           2             ⎞ ⎥\n",
       "2⋅⎝4⋅L₁  + 40⋅L₁⋅L₂ - 29⋅L₁ + 20⋅L₂  - 33⋅L₂ + 13⎠ ⎥\n",
       "────────────────────────────────────────────────── ⎥\n",
       "          7⋅(4⋅L₂ - 3)⋅(4⋅L₁ + 4⋅L₂ - 1)           ⎦"
      ]
     },
     "execution_count": 8,
     "metadata": {},
     "output_type": "execute_result"
    }
   ],
   "source": [
    "isoparametric.displacement_interpolation_function_diff_global"
   ]
  },
  {
   "cell_type": "markdown",
   "metadata": {},
   "source": [
    "## 将整体坐标转化为局部坐标"
   ]
  },
  {
   "cell_type": "code",
   "execution_count": 13,
   "metadata": {},
   "outputs": [
    {
     "data": {
      "image/png": "[encoded data removed]",
      "text/plain": [
       "(5/14, 2/7, 5/14)"
      ]
     },
     "execution_count": 13,
     "metadata": {},
     "output_type": "execute_result"
    }
   ],
   "source": [
    "L1_value, L2_value, L3_value = convert_coordinate_global_to_local_triangular(\n",
    "    global_coordinates[0], global_coordinates[1], global_coordinates[2],\n",
    "    (Rational(3,2), 2)\n",
    ")\n",
    "L1_value, L2_value, L3_value"
   ]
  },
  {
   "cell_type": "markdown",
   "metadata": {},
   "source": [
    "## 代入点位求值"
   ]
  },
  {
   "cell_type": "code",
   "execution_count": 12,
   "metadata": {},
   "outputs": [
    {
     "data": {
      "text/latex": [
       "$\\displaystyle \\left[\\begin{matrix}- \\frac{9}{143} & \\frac{2}{13} & - \\frac{1}{11} & \\frac{148}{1001} & \\frac{116}{1001} & - \\frac{20}{91}\\\\- \\frac{41}{286} & - \\frac{1}{26} & \\frac{2}{11} & - \\frac{219}{1001} & \\frac{153}{1001} & \\frac{5}{91}\\end{matrix}\\right]$"
      ],
      "text/plain": [
       "⎡                      148    116   -20 ⎤\n",
       "⎢-9/143  2/13   -1/11  ────   ────  ────⎥\n",
       "⎢                      1001   1001   91 ⎥\n",
       "⎢                                       ⎥\n",
       "⎢ -41                  -219   153       ⎥\n",
       "⎢ ────   -1/26  2/11   ─────  ────  5/91⎥\n",
       "⎣ 286                   1001  1001      ⎦"
      ]
     },
     "execution_count": 12,
     "metadata": {},
     "output_type": "execute_result"
    }
   ],
   "source": [
    "isoparametric.displacement_interpolation_function_diff_global.subs({\n",
    "    L1: Rational(5, 14),\n",
    "    L2: Rational(2, 7),\n",
    "})"
   ]
  },
  {
   "cell_type": "markdown",
   "metadata": {
    "collapsed": true
   },
   "source": [
    "$\\frac{\\partial N_4}{\\partial x}=\\frac{148}{1001}$；$\\frac{\\partial N_4}{\\partial y}=-\\frac{219}{1001}$。"
   ]
  }
 ],
 "metadata": {
  "kernelspec": {
   "display_name": "Python 3",
   "language": "python",
   "name": "python3"
  },
  "language_info": {
   "codemirror_mode": {
    "name": "ipython",
    "version": 3
   },
   "file_extension": ".py",
   "mimetype": "text/x-python",
   "name": "python",
   "nbconvert_exporter": "python",
   "pygments_lexer": "ipython3",
   "version": "3.7.1"
  }
 },
 "nbformat": 4,
 "nbformat_minor": 1
}
