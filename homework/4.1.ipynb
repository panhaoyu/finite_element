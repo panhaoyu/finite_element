{
 "cells": [
  {
   "cell_type": "markdown",
   "metadata": {},
   "source": [
    "# 4.1.\n",
    "如图的二次四边形单元，试计算$\\frac{\\partial{N_1}}{\\partial{x}}$和$\\frac{\\partial{N_2}}{\\partial{y}}$\n",
    "在自然坐标为$(1/2,1/2)$的点的数值 。"
   ]
  },
  {
   "cell_type": "code",
   "execution_count": 13,
   "metadata": {},
   "outputs": [],
   "source": [
    "import sympy as sp\n",
    "from sympy import Matrix, Rational\n",
    "from sympy.abc import xi, eta, x, y\n",
    "from finite_element.interpolation import Serendipity, SurfaceExclude, Interpolation, Isoparametric\n",
    "sp.init_printing()\n"
   ]
  },
  {
   "cell_type": "markdown",
   "metadata": {},
   "source": [
    "## 计算插值函数"
   ]
  },
  {
   "cell_type": "code",
   "execution_count": 2,
   "metadata": {},
   "outputs": [
    {
     "data": {
      "text/latex": [
       "$\\displaystyle \\left[\\begin{matrix}\\frac{\\left(\\eta + 1\\right) \\left(\\xi + 1\\right)}{4}\\\\- \\frac{\\left(\\eta + 1\\right) \\left(\\xi - 1\\right)}{4}\\\\\\frac{\\left(\\eta - 1\\right) \\left(\\xi - 1\\right)}{4}\\\\- \\frac{\\left(\\eta - 1\\right) \\left(\\xi + 1\\right)}{4}\\end{matrix}\\right]$"
      ],
      "text/plain": [
       "⎡ (η + 1)⋅(ξ + 1) ⎤\n",
       "⎢ ─────────────── ⎥\n",
       "⎢        4        ⎥\n",
       "⎢                 ⎥\n",
       "⎢-(η + 1)⋅(ξ - 1) ⎥\n",
       "⎢─────────────────⎥\n",
       "⎢        4        ⎥\n",
       "⎢                 ⎥\n",
       "⎢ (η - 1)⋅(ξ - 1) ⎥\n",
       "⎢ ─────────────── ⎥\n",
       "⎢        4        ⎥\n",
       "⎢                 ⎥\n",
       "⎢-(η - 1)⋅(ξ + 1) ⎥\n",
       "⎢─────────────────⎥\n",
       "⎣        4        ⎦"
      ]
     },
     "execution_count": 2,
     "metadata": {},
     "output_type": "execute_result"
    }
   ],
   "source": [
    "surface_exclude = SurfaceExclude(axises=[xi, eta])\n",
    "surfaces = [xi+1, xi-1, eta+1, eta-1]\n",
    "local_coordinates = [[1, 1], [-1, 1], [-1, -1], [1, -1]]\n",
    "[surface_exclude.add_surface(surface) for surface in surfaces]\n",
    "interpolation_functions = [\n",
    "    surface_exclude.get_interpolation_function(local_coordinate)\n",
    "    for local_coordinate in local_coordinates]\n",
    "Matrix(interpolation_functions)\n"
   ]
  },
  {
   "cell_type": "markdown",
   "metadata": {},
   "source": [
    "## 计算等参元的雅克比矩阵"
   ]
  },
  {
   "cell_type": "markdown",
   "metadata": {},
   "source": [
    "整体坐标下的各点位坐标"
   ]
  },
  {
   "cell_type": "code",
   "execution_count": 5,
   "metadata": {},
   "outputs": [
    {
     "data": {
      "text/latex": [
       "$\\displaystyle \\left[\\begin{matrix}40 & 50\\\\5 & 40\\\\10 & 10\\\\30 & 20\\end{matrix}\\right]$"
      ],
      "text/plain": [
       "⎡40  50⎤\n",
       "⎢      ⎥\n",
       "⎢5   40⎥\n",
       "⎢      ⎥\n",
       "⎢10  10⎥\n",
       "⎢      ⎥\n",
       "⎣30  20⎦"
      ]
     },
     "execution_count": 5,
     "metadata": {},
     "output_type": "execute_result"
    }
   ],
   "source": [
    "global_coordinates = [\n",
    "    [40, 50],\n",
    "    [5, 40],\n",
    "    [10, 10],\n",
    "    [30, 20],\n",
    "]\n",
    "Matrix(global_coordinates)"
   ]
  },
  {
   "cell_type": "code",
   "execution_count": 10,
   "metadata": {},
   "outputs": [
    {
     "data": {
      "text/latex": [
       "$\\displaystyle \\left[\\begin{matrix}\\frac{15 \\eta}{4} + \\frac{55}{4} & 5\\\\\\frac{15 \\xi}{4} + \\frac{5}{4} & 15\\end{matrix}\\right]$"
      ],
      "text/plain": [
       "⎡15⋅η   55    ⎤\n",
       "⎢──── + ──  5 ⎥\n",
       "⎢ 4     4     ⎥\n",
       "⎢             ⎥\n",
       "⎢15⋅ξ   5     ⎥\n",
       "⎢──── + ─   15⎥\n",
       "⎣ 4     4     ⎦"
      ]
     },
     "execution_count": 10,
     "metadata": {},
     "output_type": "execute_result"
    }
   ],
   "source": [
    "isoparametric = Isoparametric(\n",
    "    local_axises=[xi, eta],\n",
    "    global_axises=[x, y],\n",
    "    interpolation_functions=interpolation_functions,\n",
    "    coordinates=global_coordinates)\n",
    "isoparametric.jacobian"
   ]
  },
  {
   "cell_type": "markdown",
   "metadata": {},
   "source": [
    "## 计算等参元对整体坐标的偏导数"
   ]
  },
  {
   "cell_type": "code",
   "execution_count": 11,
   "metadata": {},
   "outputs": [
    {
     "data": {
      "text/latex": [
       "$\\displaystyle \\left[\\begin{matrix}\\frac{3 \\eta - \\xi + 2}{5 \\left(9 \\eta - 3 \\xi + 32\\right)} & - \\frac{3 \\eta - \\xi + 4}{5 \\left(9 \\eta - 3 \\xi + 32\\right)} & \\frac{3 \\eta - \\xi - 2}{5 \\left(9 \\eta - 3 \\xi + 32\\right)} & - \\frac{3 \\eta - \\xi - 4}{5 \\left(9 \\eta - 3 \\xi + 32\\right)}\\\\\\frac{\\eta + 4 \\xi + 5}{10 \\left(9 \\eta - 3 \\xi + 32\\right)} & \\frac{\\eta - 2 \\xi + 3}{5 \\left(9 \\eta - 3 \\xi + 32\\right)} & - \\frac{2 \\eta - 7 \\xi + 5}{10 \\left(9 \\eta - 3 \\xi + 32\\right)} & - \\frac{\\eta + 7 \\xi + 6}{10 \\left(9 \\eta - 3 \\xi + 32\\right)}\\end{matrix}\\right]$"
      ],
      "text/plain": [
       "⎡   3⋅η - ξ + 2        -(3⋅η - ξ + 4)        3⋅η - ξ - 2        -(3⋅η - ξ - 4)\n",
       "⎢──────────────────   ──────────────────  ──────────────────   ───────────────\n",
       "⎢5⋅(9⋅η - 3⋅ξ + 32)   5⋅(9⋅η - 3⋅ξ + 32)  5⋅(9⋅η - 3⋅ξ + 32)   5⋅(9⋅η - 3⋅ξ + \n",
       "⎢                                                                             \n",
       "⎢    η + 4⋅ξ + 5         η - 2⋅ξ + 3       -(2⋅η - 7⋅ξ + 5)      -(η + 7⋅ξ + 6\n",
       "⎢───────────────────  ──────────────────  ───────────────────  ───────────────\n",
       "⎣10⋅(9⋅η - 3⋅ξ + 32)  5⋅(9⋅η - 3⋅ξ + 32)  10⋅(9⋅η - 3⋅ξ + 32)  10⋅(9⋅η - 3⋅ξ +\n",
       "\n",
       "    ⎤\n",
       "─── ⎥\n",
       "32) ⎥\n",
       "    ⎥\n",
       ")   ⎥\n",
       "────⎥\n",
       " 32)⎦"
      ]
     },
     "execution_count": 11,
     "metadata": {},
     "output_type": "execute_result"
    }
   ],
   "source": [
    "isoparametric.displacement_interpolation_function_diff_global"
   ]
  },
  {
   "cell_type": "markdown",
   "metadata": {},
   "source": [
    "代入求值"
   ]
  },
  {
   "cell_type": "code",
   "execution_count": 14,
   "metadata": {},
   "outputs": [
    {
     "data": {
      "text/latex": [
       "$\\displaystyle \\left[\\begin{matrix}\\frac{3}{175} & - \\frac{1}{35} & - \\frac{1}{175} & \\frac{3}{175}\\\\\\frac{3}{140} & \\frac{1}{70} & - \\frac{1}{140} & - \\frac{1}{35}\\end{matrix}\\right]$"
      ],
      "text/plain": [
       "⎡3/175  -1/35  -1/175  3/175⎤\n",
       "⎢                           ⎥\n",
       "⎣3/140  1/70   -1/140  -1/35⎦"
      ]
     },
     "execution_count": 14,
     "metadata": {},
     "output_type": "execute_result"
    }
   ],
   "source": [
    "isoparametric.displacement_interpolation_function_diff_global.subs({xi: Rational(1, 2), eta: Rational(1, 2)})"
   ]
  },
  {
   "cell_type": "markdown",
   "metadata": {},
   "source": [
    "其中，整体坐标下，$\\frac{\\partial{N_1}}{\\partial{x}}=\\frac{3}{175}$和$\\frac{\\partial{N_2}}{\\partial{y}}=\\frac{1}{70}$"
   ]
  },
  {
   "cell_type": "markdown",
   "metadata": {},
   "source": [
    "库代码见[这里](https://github.com/panhaoyu/finite_element)"
   ]
  }
 ],
 "metadata": {
  "kernelspec": {
   "display_name": "Python 3",
   "language": "python",
   "name": "python3"
  },
  "language_info": {
   "codemirror_mode": {
    "name": "ipython",
    "version": 3
   },
   "file_extension": ".py",
   "mimetype": "text/x-python",
   "name": "python",
   "nbconvert_exporter": "python",
   "pygments_lexer": "ipython3",
   "version": "3.7.1"
  }
 },
 "nbformat": 4,
 "nbformat_minor": 1
}
