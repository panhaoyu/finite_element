{
 "cells": [
  {
   "cell_type": "markdown",
   "metadata": {},
   "source": [
    "# 4.1.\n",
    "如图的二次四边形单元，试计算$\\frac{\\partial{N_1}}{\\partial{x}}$和$\\frac{\\partial{N_2}}{\\partial{y}}$\n",
    "在自然坐标为$(1/2,1/2)$的点的数值 。"
   ]
  },
  {
   "cell_type": "code",
   "execution_count": 1,
   "metadata": {},
   "outputs": [],
   "source": [
    "import sympy as sp\n",
    "from sympy import Matrix\n",
    "from sympy.abc import xi, eta\n",
    "from finite_element.interpolation import Serendipity, SurfaceExclude, Interpolation\n",
    "sp.init_printing()\n"
   ]
  },
  {
   "cell_type": "markdown",
   "metadata": {},
   "source": [
    "## 计算插值函数"
   ]
  },
  {
   "cell_type": "code",
   "execution_count": 2,
   "metadata": {},
   "outputs": [
    {
     "data": {
      "text/latex": [
       "$\\displaystyle \\left[\\begin{matrix}\\frac{\\left(\\eta + 1\\right) \\left(\\xi + 1\\right)}{4}\\\\- \\frac{\\left(\\eta + 1\\right) \\left(\\xi - 1\\right)}{4}\\\\\\frac{\\left(\\eta - 1\\right) \\left(\\xi - 1\\right)}{4}\\\\- \\frac{\\left(\\eta - 1\\right) \\left(\\xi + 1\\right)}{4}\\end{matrix}\\right]$"
      ],
      "text/plain": [
       "⎡ (η + 1)⋅(ξ + 1) ⎤\n",
       "⎢ ─────────────── ⎥\n",
       "⎢        4        ⎥\n",
       "⎢                 ⎥\n",
       "⎢-(η + 1)⋅(ξ - 1) ⎥\n",
       "⎢─────────────────⎥\n",
       "⎢        4        ⎥\n",
       "⎢                 ⎥\n",
       "⎢ (η - 1)⋅(ξ - 1) ⎥\n",
       "⎢ ─────────────── ⎥\n",
       "⎢        4        ⎥\n",
       "⎢                 ⎥\n",
       "⎢-(η - 1)⋅(ξ + 1) ⎥\n",
       "⎢─────────────────⎥\n",
       "⎣        4        ⎦"
      ]
     },
     "execution_count": 2,
     "metadata": {},
     "output_type": "execute_result"
    }
   ],
   "source": [
    "surface_exclude = SurfaceExclude([xi, eta])\n",
    "surface_exclude.add_surface(xi + 1)\n",
    "surface_exclude.add_surface(xi - 1)\n",
    "surface_exclude.add_surface(eta + 1)\n",
    "surface_exclude.add_surface(eta - 1)\n",
    "interpolation_functions=[\n",
    "    surface_exclude.get_interpolation_function((1, 1)),\n",
    "    surface_exclude.get_interpolation_function((-1,1)),\n",
    "    surface_exclude.get_interpolation_function((-1,-1)),\n",
    "    surface_exclude.get_interpolation_function((1,-1))]\n",
    "Matrix(interpolation_functions)\n"
   ]
  },
  {
   "cell_type": "markdown",
   "metadata": {},
   "source": [
    "### 得到x和y的坐标插值函数"
   ]
  },
  {
   "cell_type": "code",
   "execution_count": 3,
   "metadata": {},
   "outputs": [],
   "source": [
    "x_list = [40, 5, 10, 30]\n",
    "y_list = [50, 40, 10, 20]"
   ]
  },
  {
   "cell_type": "code",
   "execution_count": 5,
   "metadata": {},
   "outputs": [
    {
     "data": {
      "text/latex": [
       "$\\displaystyle \\left[\\begin{matrix}\\frac{5 \\left(3 \\eta \\xi + \\eta + 11 \\xi + 17\\right)}{4}\\\\5 \\left(3 \\eta + \\xi + 6\\right)\\end{matrix}\\right]$"
      ],
      "text/plain": [
       "⎡5⋅(3⋅η⋅ξ + η + 11⋅ξ + 17)⎤\n",
       "⎢─────────────────────────⎥\n",
       "⎢            4            ⎥\n",
       "⎢                         ⎥\n",
       "⎣     5⋅(3⋅η + ξ + 6)     ⎦"
      ]
     },
     "execution_count": 5,
     "metadata": {},
     "output_type": "execute_result"
    }
   ],
   "source": [
    "x_interpolation = Interpolation(\n",
    "    axises=[xi, eta],\n",
    "    functions=interpolation_functions,\n",
    "    values=x_list).function\n",
    "y_interpolation = Interpolation(\n",
    "    axises=[xi, eta],\n",
    "    functions=interpolation_functions,\n",
    "    values=y_list).function\n",
    "Matrix([x_interpolation, y_interpolation])"
   ]
  },
  {
   "cell_type": "markdown",
   "metadata": {},
   "source": [
    "### 得到"
   ]
  }
 ],
 "metadata": {
  "kernelspec": {
   "display_name": "Python 3",
   "language": "python",
   "name": "python3"
  },
  "language_info": {
   "codemirror_mode": {
    "name": "ipython",
    "version": 3
   },
   "file_extension": ".py",
   "mimetype": "text/x-python",
   "name": "python",
   "nbconvert_exporter": "python",
   "pygments_lexer": "ipython3",
   "version": "3.7.1"
  }
 },
 "nbformat": 4,
 "nbformat_minor": 1
}
