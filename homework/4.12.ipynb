{
 "cells": [
  {
   "cell_type": "markdown",
   "metadata": {
    "collapsed": true
   },
   "source": [
    "# 4.12"
   ]
  },
  {
   "cell_type": "markdown",
   "metadata": {},
   "source": [
    "三维一次（8结点）和三维二次（20结点）等参元，在x、y、z坐标中单元各边与坐标轴x、y、z平行，\n",
    "边长为a、b、c，\n",
    "在4.10题中的三种荷载条件下（假定荷载沿$\\zeta$方向不变），\n",
    "结点载荷向量各是什么？"
   ]
  },
  {
   "cell_type": "code",
   "execution_count": 1,
   "metadata": {},
   "outputs": [],
   "source": [
    "import sympy\n",
    "import finite_element\n",
    "from sympy import *\n",
    "from sympy.abc import *\n",
    "sympy.init_printing()"
   ]
  },
  {
   "cell_type": "code",
   "execution_count": 2,
   "metadata": {},
   "outputs": [],
   "source": [
    "b0, q0 = symbols('b_0 q_0')"
   ]
  },
  {
   "cell_type": "markdown",
   "metadata": {},
   "source": [
    "## 三维一次等参元"
   ]
  },
  {
   "cell_type": "markdown",
   "metadata": {},
   "source": [
    "计算位移插值函数。"
   ]
  },
  {
   "cell_type": "code",
   "execution_count": 3,
   "metadata": {},
   "outputs": [
    {
     "data": {
      "text/latex": [
       "$$\\left[\\begin{matrix}1 & 1 & 1 & 1 & -1 & -1 & -1 & -1\\\\1 & 1 & -1 & -1 & 1 & 1 & -1 & -1\\\\1 & -1 & 1 & -1 & 1 & -1 & 1 & -1\\end{matrix}\\right]$$"
      ],
      "text/plain": [
       "⎡1  1   1   1   -1  -1  -1  -1⎤\n",
       "⎢                             ⎥\n",
       "⎢1  1   -1  -1  1   1   -1  -1⎥\n",
       "⎢                             ⎥\n",
       "⎣1  -1  1   -1  1   -1  1   -1⎦"
      ]
     },
     "execution_count": 3,
     "metadata": {},
     "output_type": "execute_result"
    }
   ],
   "source": [
    "local_coordinates = [\n",
    "    (1,1,1), (1,1,-1), (1,-1,1), (1,-1,-1),\n",
    "    (-1,1,1), (-1,1,-1), (-1,-1,1), (-1,-1,-1),    \n",
    "]\n",
    "Matrix(local_coordinates).T"
   ]
  },
  {
   "cell_type": "code",
   "execution_count": 4,
   "metadata": {},
   "outputs": [
    {
     "data": {
      "text/latex": [
       "$$\\left[\\begin{array}{cccccccccccccccccccccccc}\\frac{\\left(\\eta + 1\\right) \\left(\\xi + 1\\right) \\left(\\zeta + 1\\right)}{8} & 0 & 0 & - \\frac{\\left(\\eta + 1\\right) \\left(\\xi + 1\\right) \\left(\\zeta - 1\\right)}{8} & 0 & 0 & - \\frac{\\left(\\eta - 1\\right) \\left(\\xi + 1\\right) \\left(\\zeta + 1\\right)}{8} & 0 & 0 & \\frac{\\left(\\eta - 1\\right) \\left(\\xi + 1\\right) \\left(\\zeta - 1\\right)}{8} & 0 & 0 & - \\frac{\\left(\\eta + 1\\right) \\left(\\xi - 1\\right) \\left(\\zeta + 1\\right)}{8} & 0 & 0 & \\frac{\\left(\\eta + 1\\right) \\left(\\xi - 1\\right) \\left(\\zeta - 1\\right)}{8} & 0 & 0 & \\frac{\\left(\\eta - 1\\right) \\left(\\xi - 1\\right) \\left(\\zeta + 1\\right)}{8} & 0 & 0 & - \\frac{\\left(\\eta - 1\\right) \\left(\\xi - 1\\right) \\left(\\zeta - 1\\right)}{8} & 0 & 0\\\\0 & \\frac{\\left(\\eta + 1\\right) \\left(\\xi + 1\\right) \\left(\\zeta + 1\\right)}{8} & 0 & 0 & - \\frac{\\left(\\eta + 1\\right) \\left(\\xi + 1\\right) \\left(\\zeta - 1\\right)}{8} & 0 & 0 & - \\frac{\\left(\\eta - 1\\right) \\left(\\xi + 1\\right) \\left(\\zeta + 1\\right)}{8} & 0 & 0 & \\frac{\\left(\\eta - 1\\right) \\left(\\xi + 1\\right) \\left(\\zeta - 1\\right)}{8} & 0 & 0 & - \\frac{\\left(\\eta + 1\\right) \\left(\\xi - 1\\right) \\left(\\zeta + 1\\right)}{8} & 0 & 0 & \\frac{\\left(\\eta + 1\\right) \\left(\\xi - 1\\right) \\left(\\zeta - 1\\right)}{8} & 0 & 0 & \\frac{\\left(\\eta - 1\\right) \\left(\\xi - 1\\right) \\left(\\zeta + 1\\right)}{8} & 0 & 0 & - \\frac{\\left(\\eta - 1\\right) \\left(\\xi - 1\\right) \\left(\\zeta - 1\\right)}{8} & 0\\\\0 & 0 & \\frac{\\left(\\eta + 1\\right) \\left(\\xi + 1\\right) \\left(\\zeta + 1\\right)}{8} & 0 & 0 & - \\frac{\\left(\\eta + 1\\right) \\left(\\xi + 1\\right) \\left(\\zeta - 1\\right)}{8} & 0 & 0 & - \\frac{\\left(\\eta - 1\\right) \\left(\\xi + 1\\right) \\left(\\zeta + 1\\right)}{8} & 0 & 0 & \\frac{\\left(\\eta - 1\\right) \\left(\\xi + 1\\right) \\left(\\zeta - 1\\right)}{8} & 0 & 0 & - \\frac{\\left(\\eta + 1\\right) \\left(\\xi - 1\\right) \\left(\\zeta + 1\\right)}{8} & 0 & 0 & \\frac{\\left(\\eta + 1\\right) \\left(\\xi - 1\\right) \\left(\\zeta - 1\\right)}{8} & 0 & 0 & \\frac{\\left(\\eta - 1\\right) \\left(\\xi - 1\\right) \\left(\\zeta + 1\\right)}{8} & 0 & 0 & - \\frac{\\left(\\eta - 1\\right) \\left(\\xi - 1\\right) \\left(\\zeta - 1\\right)}{8}\\end{array}\\right]$$"
      ],
      "text/plain": [
       "⎡(η + 1)⋅(ξ + 1)⋅(ζ + 1)                                                    -(\n",
       "⎢───────────────────────             0                        0             ──\n",
       "⎢           8                                                                 \n",
       "⎢                                                                             \n",
       "⎢                         (η + 1)⋅(ξ + 1)⋅(ζ + 1)                             \n",
       "⎢           0             ───────────────────────             0               \n",
       "⎢                                    8                                        \n",
       "⎢                                                                             \n",
       "⎢                                                  (η + 1)⋅(ξ + 1)⋅(ζ + 1)    \n",
       "⎢           0                        0             ───────────────────────    \n",
       "⎣                                                             8               \n",
       "\n",
       "η + 1)⋅(ξ + 1)⋅(ζ - 1)                                                        \n",
       "───────────────────────              0                          0             \n",
       "          8                                                                   \n",
       "                                                                              \n",
       "                         -(η + 1)⋅(ξ + 1)⋅(ζ - 1)                             \n",
       "          0              ─────────────────────────              0             \n",
       "                                     8                                        \n",
       "                                                                              \n",
       "                                                    -(η + 1)⋅(ξ + 1)⋅(ζ - 1)  \n",
       "          0                          0              ───────────────────────── \n",
       "                                                                8             \n",
       "\n",
       " -(η - 1)⋅(ξ + 1)⋅(ζ + 1)                                                     \n",
       " ─────────────────────────              0                          0          \n",
       "             8                                                                \n",
       "                                                                              \n",
       "                            -(η - 1)⋅(ξ + 1)⋅(ζ + 1)                          \n",
       "             0              ─────────────────────────              0          \n",
       "                                        8                                     \n",
       "                                                                              \n",
       "                                                       -(η - 1)⋅(ξ + 1)⋅(ζ + 1\n",
       "             0                          0              ───────────────────────\n",
       "                                                                   8          \n",
       "\n",
       "    (η - 1)⋅(ξ + 1)⋅(ζ - 1)                                                   \n",
       "    ───────────────────────             0                        0            \n",
       "               8                                                              \n",
       "                                                                              \n",
       "                             (η - 1)⋅(ξ + 1)⋅(ζ - 1)                          \n",
       "               0             ───────────────────────             0            \n",
       "                                        8                                     \n",
       "                                                                              \n",
       ")                                                     (η - 1)⋅(ξ + 1)⋅(ζ - 1) \n",
       "──             0                        0             ─────────────────────── \n",
       "                                                                 8            \n",
       "\n",
       " -(η + 1)⋅(ξ - 1)⋅(ζ + 1)                                                     \n",
       " ─────────────────────────              0                          0          \n",
       "             8                                                                \n",
       "                                                                              \n",
       "                            -(η + 1)⋅(ξ - 1)⋅(ζ + 1)                          \n",
       "             0              ─────────────────────────              0          \n",
       "                                        8                                     \n",
       "                                                                              \n",
       "                                                       -(η + 1)⋅(ξ - 1)⋅(ζ + 1\n",
       "             0                          0              ───────────────────────\n",
       "                                                                   8          \n",
       "\n",
       "    (η + 1)⋅(ξ - 1)⋅(ζ - 1)                                                   \n",
       "    ───────────────────────             0                        0            \n",
       "               8                                                              \n",
       "                                                                              \n",
       "                             (η + 1)⋅(ξ - 1)⋅(ζ - 1)                          \n",
       "               0             ───────────────────────             0            \n",
       "                                        8                                     \n",
       "                                                                              \n",
       ")                                                     (η + 1)⋅(ξ - 1)⋅(ζ - 1) \n",
       "──             0                        0             ─────────────────────── \n",
       "                                                                 8            \n",
       "\n",
       " (η - 1)⋅(ξ - 1)⋅(ζ + 1)                                                    -(\n",
       " ───────────────────────             0                        0             ──\n",
       "            8                                                                 \n",
       "                                                                              \n",
       "                          (η - 1)⋅(ξ - 1)⋅(ζ + 1)                             \n",
       "            0             ───────────────────────             0               \n",
       "                                     8                                        \n",
       "                                                                              \n",
       "                                                   (η - 1)⋅(ξ - 1)⋅(ζ + 1)    \n",
       "            0                        0             ───────────────────────    \n",
       "                                                              8               \n",
       "\n",
       "η - 1)⋅(ξ - 1)⋅(ζ - 1)                                                       ⎤\n",
       "───────────────────────              0                          0            ⎥\n",
       "          8                                                                  ⎥\n",
       "                                                                             ⎥\n",
       "                         -(η - 1)⋅(ξ - 1)⋅(ζ - 1)                            ⎥\n",
       "          0              ─────────────────────────              0            ⎥\n",
       "                                     8                                       ⎥\n",
       "                                                                             ⎥\n",
       "                                                    -(η - 1)⋅(ξ - 1)⋅(ζ - 1) ⎥\n",
       "          0                          0              ─────────────────────────⎥\n",
       "                                                                8            ⎦"
      ]
     },
     "execution_count": 4,
     "metadata": {},
     "output_type": "execute_result"
    }
   ],
   "source": [
    "surface_exclude = finite_element.interpolation.SurfaceExclude([xi, eta, zeta])\n",
    "surface_exclude.add_surface(xi + 1)\n",
    "surface_exclude.add_surface(xi - 1)\n",
    "surface_exclude.add_surface(eta + 1)\n",
    "surface_exclude.add_surface(eta - 1)\n",
    "surface_exclude.add_surface(zeta + 1)\n",
    "surface_exclude.add_surface(zeta - 1)\n",
    "serendipity = finite_element.interpolation.Serendipity([xi, eta, zeta])\n",
    "[serendipity.add_formula(surface_exclude.get_interpolation_function(coordinate), coordinate)\n",
    " for coordinate in local_coordinates]\n",
    "interpolation_functions = [diag(1,1,1) * f for f in serendipity.formulas]\n",
    "interpolation_functions = Matrix(interpolation_functions)\n",
    "interpolation_functions.T"
   ]
  },
  {
   "cell_type": "markdown",
   "metadata": {},
   "source": [
    "计算等参元坐标插值函数"
   ]
  },
  {
   "cell_type": "code",
   "execution_count": 5,
   "metadata": {},
   "outputs": [
    {
     "data": {
      "text/latex": [
       "$$\\left[\\begin{matrix}\\frac{a}{2} & \\frac{a}{2} & \\frac{a}{2} & \\frac{a}{2} & - \\frac{a}{2} & - \\frac{a}{2} & - \\frac{a}{2} & - \\frac{a}{2}\\\\\\frac{b}{2} & \\frac{b}{2} & - \\frac{b}{2} & - \\frac{b}{2} & \\frac{b}{2} & \\frac{b}{2} & - \\frac{b}{2} & - \\frac{b}{2}\\\\\\frac{c}{2} & - \\frac{c}{2} & \\frac{c}{2} & - \\frac{c}{2} & \\frac{c}{2} & - \\frac{c}{2} & \\frac{c}{2} & - \\frac{c}{2}\\end{matrix}\\right]$$"
      ],
      "text/plain": [
       "⎡a   a    a    a   -a   -a   -a   -a ⎤\n",
       "⎢─   ─    ─    ─   ───  ───  ───  ───⎥\n",
       "⎢2   2    2    2    2    2    2    2 ⎥\n",
       "⎢                                    ⎥\n",
       "⎢b   b   -b   -b    b    b   -b   -b ⎥\n",
       "⎢─   ─   ───  ───   ─    ─   ───  ───⎥\n",
       "⎢2   2    2    2    2    2    2    2 ⎥\n",
       "⎢                                    ⎥\n",
       "⎢c  -c    c   -c    c   -c    c   -c ⎥\n",
       "⎢─  ───   ─   ───   ─   ───   ─   ───⎥\n",
       "⎣2   2    2    2    2    2    2    2 ⎦"
      ]
     },
     "execution_count": 5,
     "metadata": {},
     "output_type": "execute_result"
    }
   ],
   "source": [
    "global_coordinates = [(_x*a/2,_y*b/2,_z*c/2) for _x,_y,_z in local_coordinates]\n",
    "Matrix(global_coordinates).T"
   ]
  },
  {
   "cell_type": "code",
   "execution_count": 6,
   "metadata": {},
   "outputs": [
    {
     "data": {
      "image/png": "[encoded data removed]",
      "text/latex": [
       "$$\\left ( \\frac{a \\xi}{2}, \\quad \\frac{b \\eta}{2}, \\quad \\frac{c \\zeta}{2}\\right )$$"
      ],
      "text/plain": [
       "⎛a⋅ξ  b⋅η  c⋅ζ⎞\n",
       "⎜───, ───, ───⎟\n",
       "⎝ 2    2    2 ⎠"
      ]
     },
     "execution_count": 6,
     "metadata": {},
     "output_type": "execute_result"
    }
   ],
   "source": [
    "isoparametric = finite_element.interpolation.Isoparametric(\n",
    "    local_axises=[xi,eta,zeta],\n",
    "    global_axises=[x,y,z],\n",
    "    interpolation_functions=serendipity.formulas,\n",
    "    coordinates=global_coordinates,\n",
    ")\n",
    "x,y,z = isoparametric.coordinate_interpolation_functions\n",
    "x,y,z"
   ]
  },
  {
   "cell_type": "markdown",
   "metadata": {},
   "source": [
    "计算$jacobian$和$A$两个坐标变换。"
   ]
  },
  {
   "cell_type": "code",
   "execution_count": 7,
   "metadata": {},
   "outputs": [
    {
     "data": {
      "image/png": "[encoded data removed]",
      "text/latex": [
       "$$\\frac{a b c}{8}$$"
      ],
      "text/plain": [
       "a⋅b⋅c\n",
       "─────\n",
       "  8  "
      ]
     },
     "execution_count": 7,
     "metadata": {},
     "output_type": "execute_result"
    }
   ],
   "source": [
    "jacobian = Matrix([\n",
    "    [x.diff(xi), y.diff(xi), z.diff(xi)],\n",
    "    [x.diff(eta), y.diff(eta), z.diff(eta)],\n",
    "    [x.diff(zeta), y.diff(zeta), z.diff(zeta)],    \n",
    "]).det()\n",
    "jacobian"
   ]
  },
  {
   "cell_type": "code",
   "execution_count": 8,
   "metadata": {},
   "outputs": [
    {
     "data": {
      "image/png": "[encoded data removed]",
      "text/latex": [
       "$$\\frac{\\sqrt{b^{2} c^{2}}}{4}$$"
      ],
      "text/plain": [
       "   _______\n",
       "  ╱  2  2 \n",
       "╲╱  b ⋅c  \n",
       "──────────\n",
       "    4     "
      ]
     },
     "execution_count": 8,
     "metadata": {},
     "output_type": "execute_result"
    }
   ],
   "source": [
    "A = sqrt(\n",
    "    (y.diff(eta) * z.diff(zeta) - y.diff(zeta) * z.diff(eta)) ** 2 +\n",
    "    (z.diff(eta) * x.diff(zeta) - z.diff(zeta) * x.diff(eta)) ** 2 +\n",
    "    (x.diff(eta) * y.diff(zeta) - x.diff(zeta) * y.diff(eta)) ** 2\n",
    ")\n",
    "A"
   ]
  },
  {
   "cell_type": "markdown",
   "metadata": {},
   "source": [
    "手动调整A的值"
   ]
  },
  {
   "cell_type": "code",
   "execution_count": 9,
   "metadata": {},
   "outputs": [
    {
     "data": {
      "image/png": "[encoded data removed]",
      "text/latex": [
       "$$\\frac{b c}{4}$$"
      ],
      "text/plain": [
       "b⋅c\n",
       "───\n",
       " 4 "
      ]
     },
     "execution_count": 9,
     "metadata": {},
     "output_type": "execute_result"
    }
   ],
   "source": [
    "A = b*c/4\n",
    "A"
   ]
  },
  {
   "cell_type": "markdown",
   "metadata": {},
   "source": [
    "### 情况1\n",
    "在x正方向上有一分布载荷作用在$\\xi=1$的边上，载荷在$\\eta=-1$为零；在$\\eta=1$为$q_0$，呈线性变化。"
   ]
  },
  {
   "cell_type": "code",
   "execution_count": 10,
   "metadata": {},
   "outputs": [
    {
     "data": {
      "text/latex": [
       "$$\\left[\\begin{matrix}\\frac{\\eta q_{0}}{2} + \\frac{q_{0}}{2} & 0 & 0\\end{matrix}\\right]$$"
      ],
      "text/plain": [
       "⎡η⋅q₀   q₀      ⎤\n",
       "⎢──── + ──  0  0⎥\n",
       "⎣ 2     2       ⎦"
      ]
     },
     "execution_count": 10,
     "metadata": {},
     "output_type": "execute_result"
    }
   ],
   "source": [
    "load = Matrix([\n",
    "    q0/2+q0*eta/2,\n",
    "    0,\n",
    "    0,\n",
    "])\n",
    "load.T"
   ]
  },
  {
   "cell_type": "code",
   "execution_count": 11,
   "metadata": {},
   "outputs": [
    {
     "data": {
      "text/latex": [
       "$$\\left[\\begin{array}{cccccccccccccccccccccccc}\\frac{b c q_{0}}{6} & 0 & 0 & \\frac{b c q_{0}}{6} & 0 & 0 & \\frac{b c q_{0}}{12} & 0 & 0 & \\frac{b c q_{0}}{12} & 0 & 0 & 0 & 0 & 0 & 0 & 0 & 0 & 0 & 0 & 0 & 0 & 0 & 0\\end{array}\\right]$$"
      ],
      "text/plain": [
       "⎡b⋅c⋅q₀        b⋅c⋅q₀        b⋅c⋅q₀        b⋅c⋅q₀                             \n",
       "⎢──────  0  0  ──────  0  0  ──────  0  0  ──────  0  0  0  0  0  0  0  0  0  \n",
       "⎣  6             6             12            12                               \n",
       "\n",
       "             ⎤\n",
       "0  0  0  0  0⎥\n",
       "             ⎦"
      ]
     },
     "execution_count": 11,
     "metadata": {},
     "output_type": "execute_result"
    }
   ],
   "source": [
    "integrate(integrate(\n",
    "    interpolation_functions * load * A,\n",
    "    (eta, -1, 1)), (zeta, -1, 1)).subs({xi: 1}).T"
   ]
  },
  {
   "cell_type": "markdown",
   "metadata": {},
   "source": [
    "### 情况2"
   ]
  },
  {
   "cell_type": "markdown",
   "metadata": {},
   "source": [
    "在$\\xi=1$边上作用有均布载荷$q_0$，方向压向单元。"
   ]
  },
  {
   "cell_type": "code",
   "execution_count": 12,
   "metadata": {},
   "outputs": [
    {
     "data": {
      "text/latex": [
       "$$\\left[\\begin{matrix}- q_{0} & 0 & 0\\end{matrix}\\right]$$"
      ],
      "text/plain": [
       "[-q₀  0  0]"
      ]
     },
     "execution_count": 12,
     "metadata": {},
     "output_type": "execute_result"
    }
   ],
   "source": [
    "load = Matrix([\n",
    "    -q0,\n",
    "    0,\n",
    "    0,\n",
    "])\n",
    "load.T"
   ]
  },
  {
   "cell_type": "code",
   "execution_count": 13,
   "metadata": {},
   "outputs": [
    {
     "data": {
      "text/latex": [
       "$$\\left[\\begin{array}{cccccccccccccccccccccccc}- \\frac{b c q_{0}}{4} & 0 & 0 & - \\frac{b c q_{0}}{4} & 0 & 0 & - \\frac{b c q_{0}}{4} & 0 & 0 & - \\frac{b c q_{0}}{4} & 0 & 0 & 0 & 0 & 0 & 0 & 0 & 0 & 0 & 0 & 0 & 0 & 0 & 0\\end{array}\\right]$$"
      ],
      "text/plain": [
       "⎡-b⋅c⋅q₀         -b⋅c⋅q₀         -b⋅c⋅q₀         -b⋅c⋅q₀                      \n",
       "⎢────────  0  0  ────────  0  0  ────────  0  0  ────────  0  0  0  0  0  0  0\n",
       "⎣   4               4               4               4                         \n",
       "\n",
       "                     ⎤\n",
       "  0  0  0  0  0  0  0⎥\n",
       "                     ⎦"
      ]
     },
     "execution_count": 13,
     "metadata": {},
     "output_type": "execute_result"
    }
   ],
   "source": [
    "integrate(integrate(\n",
    "    interpolation_functions * load * A,\n",
    "    (eta, -1, 1)), (zeta, -1, 1)).subs({xi: 1}).T"
   ]
  },
  {
   "cell_type": "markdown",
   "metadata": {},
   "source": [
    "### 情况3"
   ]
  },
  {
   "cell_type": "markdown",
   "metadata": {},
   "source": [
    "在$y$正方向作用有均布的体积力$b_0$。"
   ]
  },
  {
   "cell_type": "code",
   "execution_count": 14,
   "metadata": {},
   "outputs": [
    {
     "data": {
      "text/latex": [
       "$$\\left[\\begin{matrix}0 & b_{0} & 0\\end{matrix}\\right]$$"
      ],
      "text/plain": [
       "[0  b₀  0]"
      ]
     },
     "execution_count": 14,
     "metadata": {},
     "output_type": "execute_result"
    }
   ],
   "source": [
    "load = Matrix([0, b0, 0])\n",
    "load.T"
   ]
  },
  {
   "cell_type": "code",
   "execution_count": 15,
   "metadata": {},
   "outputs": [
    {
     "data": {
      "text/latex": [
       "$$\\left[\\begin{array}{cccccccccccccccccccccccc}0 & \\frac{a b b_{0} c}{8} & 0 & 0 & \\frac{a b b_{0} c}{8} & 0 & 0 & \\frac{a b b_{0} c}{8} & 0 & 0 & \\frac{a b b_{0} c}{8} & 0 & 0 & \\frac{a b b_{0} c}{8} & 0 & 0 & \\frac{a b b_{0} c}{8} & 0 & 0 & \\frac{a b b_{0} c}{8} & 0 & 0 & \\frac{a b b_{0} c}{8} & 0\\end{array}\\right]$$"
      ],
      "text/plain": [
       "⎡   a⋅b⋅b₀⋅c        a⋅b⋅b₀⋅c        a⋅b⋅b₀⋅c        a⋅b⋅b₀⋅c        a⋅b⋅b₀⋅c  \n",
       "⎢0  ────────  0  0  ────────  0  0  ────────  0  0  ────────  0  0  ────────  \n",
       "⎣      8               8               8               8               8      \n",
       "\n",
       "      a⋅b⋅b₀⋅c        a⋅b⋅b₀⋅c        a⋅b⋅b₀⋅c   ⎤\n",
       "0  0  ────────  0  0  ────────  0  0  ────────  0⎥\n",
       "         8               8               8       ⎦"
      ]
     },
     "execution_count": 15,
     "metadata": {},
     "output_type": "execute_result"
    }
   ],
   "source": [
    "integrate(integrate(integrate(\n",
    "    interpolation_functions * load * jacobian,\n",
    "    (eta, -1, 1)), (zeta, -1, 1)), (xi, -1, 1)).T"
   ]
  },
  {
   "cell_type": "markdown",
   "metadata": {},
   "source": [
    "## 三维二次等参元"
   ]
  },
  {
   "cell_type": "markdown",
   "metadata": {},
   "source": [
    "计算位移插值函数。"
   ]
  },
  {
   "cell_type": "code",
   "execution_count": 16,
   "metadata": {},
   "outputs": [
    {
     "data": {
      "text/latex": [
       "$$\\left[\\begin{array}{cccccccccccccccccccc}1 & 1 & 1 & 1 & -1 & -1 & -1 & -1 & 1 & 0 & -1 & 0 & 1 & 1 & -1 & -1 & 1 & 0 & -1 & 0\\\\1 & 1 & -1 & -1 & 1 & 1 & -1 & -1 & 0 & 1 & 0 & -1 & 1 & -1 & -1 & 1 & 0 & 1 & 0 & -1\\\\1 & -1 & 1 & -1 & 1 & -1 & 1 & -1 & 1 & 1 & 1 & 1 & 0 & 0 & 0 & 0 & -1 & -1 & -1 & -1\\end{array}\\right]$$"
      ],
      "text/plain": [
       "⎡1  1   1   1   -1  -1  -1  -1  1  0  -1  0   1  1   -1  -1  1   0   -1  0 ⎤\n",
       "⎢                                                                          ⎥\n",
       "⎢1  1   -1  -1  1   1   -1  -1  0  1  0   -1  1  -1  -1  1   0   1   0   -1⎥\n",
       "⎢                                                                          ⎥\n",
       "⎣1  -1  1   -1  1   -1  1   -1  1  1  1   1   0  0   0   0   -1  -1  -1  -1⎦"
      ]
     },
     "execution_count": 16,
     "metadata": {},
     "output_type": "execute_result"
    }
   ],
   "source": [
    "local_coordinates = [\n",
    "    (1,1,1), (1,1,-1), (1,-1,1), (1,-1,-1),\n",
    "    (-1,1,1), (-1,1,-1), (-1,-1,1), (-1,-1,-1),\n",
    "    (1,0,1), (0,1,1), (-1,0,1), (0,-1,1),\n",
    "    (1,1,0), (1,-1,0), (-1,-1,0), (-1,1,0),\n",
    "    (1,0,-1), (0,1,-1), (-1,0,-1), (0,-1,-1),\n",
    "]\n",
    "Matrix(local_coordinates).T"
   ]
  },
  {
   "cell_type": "code",
   "execution_count": 17,
   "metadata": {},
   "outputs": [
    {
     "data": {
      "text/latex": [
       "$$\\left[\\begin{array}{cccccccccccccccccccccccccccccccccccccccccccccccccccccccccccc}\\frac{\\left(\\eta + 1\\right) \\left(\\xi + 1\\right) \\left(\\zeta + 1\\right) \\left(\\eta + \\xi + \\zeta - 2\\right)}{8} & 0 & 0 & - \\frac{\\left(\\eta + 1\\right) \\left(\\xi + 1\\right) \\left(\\zeta - 1\\right) \\left(\\eta + \\xi - \\zeta - 2\\right)}{8} & 0 & 0 & \\frac{\\left(\\eta - 1\\right) \\left(\\xi + 1\\right) \\left(\\zeta + 1\\right) \\left(\\eta - \\xi - \\zeta + 2\\right)}{8} & 0 & 0 & - \\frac{\\left(\\eta - 1\\right) \\left(\\xi + 1\\right) \\left(\\zeta - 1\\right) \\left(\\eta - \\xi + \\zeta + 2\\right)}{8} & 0 & 0 & - \\frac{\\left(\\eta + 1\\right) \\left(\\xi - 1\\right) \\left(\\zeta + 1\\right) \\left(\\eta - \\xi + \\zeta - 2\\right)}{8} & 0 & 0 & \\frac{\\left(\\eta + 1\\right) \\left(\\xi - 1\\right) \\left(\\zeta - 1\\right) \\left(\\eta - \\xi - \\zeta - 2\\right)}{8} & 0 & 0 & - \\frac{\\left(\\eta - 1\\right) \\left(\\xi - 1\\right) \\left(\\zeta + 1\\right) \\left(\\eta + \\xi - \\zeta + 2\\right)}{8} & 0 & 0 & \\frac{\\left(\\eta - 1\\right) \\left(\\xi - 1\\right) \\left(\\zeta - 1\\right) \\left(\\eta + \\xi + \\zeta + 2\\right)}{8} & 0 & 0 & - \\frac{\\left(\\eta - 1\\right) \\left(\\eta + 1\\right) \\left(\\xi + 1\\right) \\left(\\zeta + 1\\right)}{4} & 0 & 0 & - \\frac{\\left(\\eta + 1\\right) \\left(\\xi - 1\\right) \\left(\\xi + 1\\right) \\left(\\zeta + 1\\right)}{4} & 0 & 0 & \\frac{\\left(\\eta - 1\\right) \\left(\\eta + 1\\right) \\left(\\xi - 1\\right) \\left(\\zeta + 1\\right)}{4} & 0 & 0 & \\frac{\\left(\\eta - 1\\right) \\left(\\xi - 1\\right) \\left(\\xi + 1\\right) \\left(\\zeta + 1\\right)}{4} & 0 & 0 & - \\frac{\\left(\\eta + 1\\right) \\left(\\xi + 1\\right) \\left(\\zeta - 1\\right) \\left(\\zeta + 1\\right)}{4} & 0 & 0 & \\frac{\\left(\\eta - 1\\right) \\left(\\xi + 1\\right) \\left(\\zeta - 1\\right) \\left(\\zeta + 1\\right)}{4} & 0 & 0 & - \\frac{\\left(\\eta - 1\\right) \\left(\\xi - 1\\right) \\left(\\zeta - 1\\right) \\left(\\zeta + 1\\right)}{4} & 0 & 0 & \\frac{\\left(\\eta + 1\\right) \\left(\\xi - 1\\right) \\left(\\zeta - 1\\right) \\left(\\zeta + 1\\right)}{4} & 0 & 0 & \\frac{\\left(\\eta - 1\\right) \\left(\\eta + 1\\right) \\left(\\xi + 1\\right) \\left(\\zeta - 1\\right)}{4} & 0 & 0 & \\frac{\\left(\\eta + 1\\right) \\left(\\xi - 1\\right) \\left(\\xi + 1\\right) \\left(\\zeta - 1\\right)}{4} & 0 & 0 & - \\frac{\\left(\\eta - 1\\right) \\left(\\eta + 1\\right) \\left(\\xi - 1\\right) \\left(\\zeta - 1\\right)}{4} & 0 & 0 & - \\frac{\\left(\\eta - 1\\right) \\left(\\xi - 1\\right) \\left(\\xi + 1\\right) \\left(\\zeta - 1\\right)}{4} & 0 & 0\\\\0 & \\frac{\\left(\\eta + 1\\right) \\left(\\xi + 1\\right) \\left(\\zeta + 1\\right) \\left(\\eta + \\xi + \\zeta - 2\\right)}{8} & 0 & 0 & - \\frac{\\left(\\eta + 1\\right) \\left(\\xi + 1\\right) \\left(\\zeta - 1\\right) \\left(\\eta + \\xi - \\zeta - 2\\right)}{8} & 0 & 0 & \\frac{\\left(\\eta - 1\\right) \\left(\\xi + 1\\right) \\left(\\zeta + 1\\right) \\left(\\eta - \\xi - \\zeta + 2\\right)}{8} & 0 & 0 & - \\frac{\\left(\\eta - 1\\right) \\left(\\xi + 1\\right) \\left(\\zeta - 1\\right) \\left(\\eta - \\xi + \\zeta + 2\\right)}{8} & 0 & 0 & - \\frac{\\left(\\eta + 1\\right) \\left(\\xi - 1\\right) \\left(\\zeta + 1\\right) \\left(\\eta - \\xi + \\zeta - 2\\right)}{8} & 0 & 0 & \\frac{\\left(\\eta + 1\\right) \\left(\\xi - 1\\right) \\left(\\zeta - 1\\right) \\left(\\eta - \\xi - \\zeta - 2\\right)}{8} & 0 & 0 & - \\frac{\\left(\\eta - 1\\right) \\left(\\xi - 1\\right) \\left(\\zeta + 1\\right) \\left(\\eta + \\xi - \\zeta + 2\\right)}{8} & 0 & 0 & \\frac{\\left(\\eta - 1\\right) \\left(\\xi - 1\\right) \\left(\\zeta - 1\\right) \\left(\\eta + \\xi + \\zeta + 2\\right)}{8} & 0 & 0 & - \\frac{\\left(\\eta - 1\\right) \\left(\\eta + 1\\right) \\left(\\xi + 1\\right) \\left(\\zeta + 1\\right)}{4} & 0 & 0 & - \\frac{\\left(\\eta + 1\\right) \\left(\\xi - 1\\right) \\left(\\xi + 1\\right) \\left(\\zeta + 1\\right)}{4} & 0 & 0 & \\frac{\\left(\\eta - 1\\right) \\left(\\eta + 1\\right) \\left(\\xi - 1\\right) \\left(\\zeta + 1\\right)}{4} & 0 & 0 & \\frac{\\left(\\eta - 1\\right) \\left(\\xi - 1\\right) \\left(\\xi + 1\\right) \\left(\\zeta + 1\\right)}{4} & 0 & 0 & - \\frac{\\left(\\eta + 1\\right) \\left(\\xi + 1\\right) \\left(\\zeta - 1\\right) \\left(\\zeta + 1\\right)}{4} & 0 & 0 & \\frac{\\left(\\eta - 1\\right) \\left(\\xi + 1\\right) \\left(\\zeta - 1\\right) \\left(\\zeta + 1\\right)}{4} & 0 & 0 & - \\frac{\\left(\\eta - 1\\right) \\left(\\xi - 1\\right) \\left(\\zeta - 1\\right) \\left(\\zeta + 1\\right)}{4} & 0 & 0 & \\frac{\\left(\\eta + 1\\right) \\left(\\xi - 1\\right) \\left(\\zeta - 1\\right) \\left(\\zeta + 1\\right)}{4} & 0 & 0 & \\frac{\\left(\\eta - 1\\right) \\left(\\eta + 1\\right) \\left(\\xi + 1\\right) \\left(\\zeta - 1\\right)}{4} & 0 & 0 & \\frac{\\left(\\eta + 1\\right) \\left(\\xi - 1\\right) \\left(\\xi + 1\\right) \\left(\\zeta - 1\\right)}{4} & 0 & 0 & - \\frac{\\left(\\eta - 1\\right) \\left(\\eta + 1\\right) \\left(\\xi - 1\\right) \\left(\\zeta - 1\\right)}{4} & 0 & 0 & - \\frac{\\left(\\eta - 1\\right) \\left(\\xi - 1\\right) \\left(\\xi + 1\\right) \\left(\\zeta - 1\\right)}{4} & 0\\\\0 & 0 & \\frac{\\left(\\eta + 1\\right) \\left(\\xi + 1\\right) \\left(\\zeta + 1\\right) \\left(\\eta + \\xi + \\zeta - 2\\right)}{8} & 0 & 0 & - \\frac{\\left(\\eta + 1\\right) \\left(\\xi + 1\\right) \\left(\\zeta - 1\\right) \\left(\\eta + \\xi - \\zeta - 2\\right)}{8} & 0 & 0 & \\frac{\\left(\\eta - 1\\right) \\left(\\xi + 1\\right) \\left(\\zeta + 1\\right) \\left(\\eta - \\xi - \\zeta + 2\\right)}{8} & 0 & 0 & - \\frac{\\left(\\eta - 1\\right) \\left(\\xi + 1\\right) \\left(\\zeta - 1\\right) \\left(\\eta - \\xi + \\zeta + 2\\right)}{8} & 0 & 0 & - \\frac{\\left(\\eta + 1\\right) \\left(\\xi - 1\\right) \\left(\\zeta + 1\\right) \\left(\\eta - \\xi + \\zeta - 2\\right)}{8} & 0 & 0 & \\frac{\\left(\\eta + 1\\right) \\left(\\xi - 1\\right) \\left(\\zeta - 1\\right) \\left(\\eta - \\xi - \\zeta - 2\\right)}{8} & 0 & 0 & - \\frac{\\left(\\eta - 1\\right) \\left(\\xi - 1\\right) \\left(\\zeta + 1\\right) \\left(\\eta + \\xi - \\zeta + 2\\right)}{8} & 0 & 0 & \\frac{\\left(\\eta - 1\\right) \\left(\\xi - 1\\right) \\left(\\zeta - 1\\right) \\left(\\eta + \\xi + \\zeta + 2\\right)}{8} & 0 & 0 & - \\frac{\\left(\\eta - 1\\right) \\left(\\eta + 1\\right) \\left(\\xi + 1\\right) \\left(\\zeta + 1\\right)}{4} & 0 & 0 & - \\frac{\\left(\\eta + 1\\right) \\left(\\xi - 1\\right) \\left(\\xi + 1\\right) \\left(\\zeta + 1\\right)}{4} & 0 & 0 & \\frac{\\left(\\eta - 1\\right) \\left(\\eta + 1\\right) \\left(\\xi - 1\\right) \\left(\\zeta + 1\\right)}{4} & 0 & 0 & \\frac{\\left(\\eta - 1\\right) \\left(\\xi - 1\\right) \\left(\\xi + 1\\right) \\left(\\zeta + 1\\right)}{4} & 0 & 0 & - \\frac{\\left(\\eta + 1\\right) \\left(\\xi + 1\\right) \\left(\\zeta - 1\\right) \\left(\\zeta + 1\\right)}{4} & 0 & 0 & \\frac{\\left(\\eta - 1\\right) \\left(\\xi + 1\\right) \\left(\\zeta - 1\\right) \\left(\\zeta + 1\\right)}{4} & 0 & 0 & - \\frac{\\left(\\eta - 1\\right) \\left(\\xi - 1\\right) \\left(\\zeta - 1\\right) \\left(\\zeta + 1\\right)}{4} & 0 & 0 & \\frac{\\left(\\eta + 1\\right) \\left(\\xi - 1\\right) \\left(\\zeta - 1\\right) \\left(\\zeta + 1\\right)}{4} & 0 & 0 & \\frac{\\left(\\eta - 1\\right) \\left(\\eta + 1\\right) \\left(\\xi + 1\\right) \\left(\\zeta - 1\\right)}{4} & 0 & 0 & \\frac{\\left(\\eta + 1\\right) \\left(\\xi - 1\\right) \\left(\\xi + 1\\right) \\left(\\zeta - 1\\right)}{4} & 0 & 0 & - \\frac{\\left(\\eta - 1\\right) \\left(\\eta + 1\\right) \\left(\\xi - 1\\right) \\left(\\zeta - 1\\right)}{4} & 0 & 0 & - \\frac{\\left(\\eta - 1\\right) \\left(\\xi - 1\\right) \\left(\\xi + 1\\right) \\left(\\zeta - 1\\right)}{4}\\end{array}\\right]$$"
      ],
      "text/plain": [
       "⎡(η + 1)⋅(ξ + 1)⋅(ζ + 1)⋅(η + ξ + ζ - 2)                                      \n",
       "⎢───────────────────────────────────────                     0                \n",
       "⎢                   8                                                         \n",
       "⎢                                                                             \n",
       "⎢                                         (η + 1)⋅(ξ + 1)⋅(ζ + 1)⋅(η + ξ + ζ -\n",
       "⎢                   0                     ────────────────────────────────────\n",
       "⎢                                                            8                \n",
       "⎢                                                                             \n",
       "⎢                                                                             \n",
       "⎢                   0                                        0                \n",
       "⎣                                                                             \n",
       "\n",
       "                                              -(η + 1)⋅(ξ + 1)⋅(ζ - 1)⋅(η + ξ \n",
       "                        0                     ────────────────────────────────\n",
       "                                                                  8           \n",
       "                                                                              \n",
       " 2)                                                                           \n",
       "───                     0                                         0           \n",
       "                                                                              \n",
       "                                                                              \n",
       "     (η + 1)⋅(ξ + 1)⋅(ζ + 1)⋅(η + ξ + ζ - 2)                                  \n",
       "     ───────────────────────────────────────                      0           \n",
       "                        8                                                     \n",
       "\n",
       "- ζ - 2)                                                                      \n",
       "─────────                      0                                          0   \n",
       "                                                                              \n",
       "                                                                              \n",
       "           -(η + 1)⋅(ξ + 1)⋅(ζ - 1)⋅(η + ξ - ζ - 2)                           \n",
       "           ─────────────────────────────────────────                      0   \n",
       "                               8                                              \n",
       "                                                                              \n",
       "                                                      -(η + 1)⋅(ξ + 1)⋅(ζ - 1)\n",
       "                               0                      ────────────────────────\n",
       "                                                                          8   \n",
       "\n",
       "                   (η - 1)⋅(ξ + 1)⋅(ζ + 1)⋅(η - ξ - ζ + 2)                    \n",
       "                   ───────────────────────────────────────                    \n",
       "                                      8                                       \n",
       "                                                                              \n",
       "                                                            (η - 1)⋅(ξ + 1)⋅(ζ\n",
       "                                      0                     ──────────────────\n",
       "                                                                              \n",
       "                                                                              \n",
       "⋅(η + ξ - ζ - 2)                                                              \n",
       "─────────────────                     0                                       \n",
       "                                                                              \n",
       "\n",
       "                                                                -(η - 1)⋅(ξ + \n",
       " 0                                        0                     ──────────────\n",
       "                                                                              \n",
       "                                                                              \n",
       " + 1)⋅(η - ξ - ζ + 2)                                                         \n",
       "─────────────────────                     0                                   \n",
       " 8                                                                            \n",
       "                                                                              \n",
       "                       (η - 1)⋅(ξ + 1)⋅(ζ + 1)⋅(η - ξ - ζ + 2)                \n",
       " 0                     ───────────────────────────────────────                \n",
       "                                          8                                   \n",
       "\n",
       "1)⋅(ζ - 1)⋅(η - ξ + ζ + 2)                                                    \n",
       "───────────────────────────                      0                            \n",
       "      8                                                                       \n",
       "                                                                              \n",
       "                             -(η - 1)⋅(ξ + 1)⋅(ζ - 1)⋅(η - ξ + ζ + 2)         \n",
       "      0                      ─────────────────────────────────────────        \n",
       "                                                 8                            \n",
       "                                                                              \n",
       "                                                                        -(η - \n",
       "      0                                          0                      ──────\n",
       "                                                                              \n",
       "\n",
       "                                     -(η + 1)⋅(ξ - 1)⋅(ζ + 1)⋅(η - ξ + ζ - 2) \n",
       "              0                      ─────────────────────────────────────────\n",
       "                                                         8                    \n",
       "                                                                              \n",
       "                                                                              \n",
       "              0                                          0                    \n",
       "                                                                              \n",
       "                                                                              \n",
       "1)⋅(ξ + 1)⋅(ζ - 1)⋅(η - ξ + ζ + 2)                                            \n",
       "───────────────────────────────────                      0                    \n",
       "              8                                                               \n",
       "\n",
       "                                                                              \n",
       "                      0                                          0            \n",
       "                                                                              \n",
       "                                                                              \n",
       "  -(η + 1)⋅(ξ - 1)⋅(ζ + 1)⋅(η - ξ + ζ - 2)                                    \n",
       "  ─────────────────────────────────────────                      0            \n",
       "                      8                                                       \n",
       "                                                                              \n",
       "                                             -(η + 1)⋅(ξ - 1)⋅(ζ + 1)⋅(η - ξ +\n",
       "                      0                      ─────────────────────────────────\n",
       "                                                                 8            \n",
       "\n",
       "          (η + 1)⋅(ξ - 1)⋅(ζ - 1)⋅(η - ξ - ζ - 2)                             \n",
       "          ───────────────────────────────────────                     0       \n",
       "                             8                                                \n",
       "                                                                              \n",
       "                                                   (η + 1)⋅(ξ - 1)⋅(ζ - 1)⋅(η \n",
       "                             0                     ───────────────────────────\n",
       "                                                                      8       \n",
       "                                                                              \n",
       " ζ - 2)                                                                       \n",
       "────────                     0                                        0       \n",
       "                                                                              \n",
       "\n",
       "                                                       -(η - 1)⋅(ξ - 1)⋅(ζ + 1\n",
       "                                 0                     ───────────────────────\n",
       "                                                                           8  \n",
       "                                                                              \n",
       "- ξ - ζ - 2)                                                                  \n",
       "────────────                     0                                         0  \n",
       "                                                                              \n",
       "                                                                              \n",
       "              (η + 1)⋅(ξ - 1)⋅(ζ - 1)⋅(η - ξ - ζ - 2)                         \n",
       "              ───────────────────────────────────────                      0  \n",
       "                                 8                                            \n",
       "\n",
       ")⋅(η + ξ - ζ + 2)                                                             \n",
       "──────────────────                      0                                     \n",
       "                                                                              \n",
       "                                                                              \n",
       "                    -(η - 1)⋅(ξ - 1)⋅(ζ + 1)⋅(η + ξ - ζ + 2)                  \n",
       "                    ─────────────────────────────────────────                 \n",
       "                                        8                                     \n",
       "                                                                              \n",
       "                                                               -(η - 1)⋅(ξ - 1\n",
       "                                        0                      ───────────────\n",
       "                                                                              \n",
       "\n",
       "                            (η - 1)⋅(ξ - 1)⋅(ζ - 1)⋅(η + ξ + ζ + 2)           \n",
       "     0                      ───────────────────────────────────────           \n",
       "                                               8                              \n",
       "                                                                              \n",
       "                                                                     (η - 1)⋅(\n",
       "     0                                         0                     ─────────\n",
       "                                                                              \n",
       "                                                                              \n",
       ")⋅(ζ + 1)⋅(η + ξ - ζ + 2)                                                     \n",
       "──────────────────────────                     0                              \n",
       "     8                                                                        \n",
       "\n",
       "                                                                         -(η -\n",
       "          0                                        0                     ─────\n",
       "                                                                              \n",
       "                                                                              \n",
       "ξ - 1)⋅(ζ - 1)⋅(η + ξ + ζ + 2)                                                \n",
       "──────────────────────────────                     0                          \n",
       "          8                                                                   \n",
       "                                                                              \n",
       "                                (η - 1)⋅(ξ - 1)⋅(ζ - 1)⋅(η + ξ + ζ + 2)       \n",
       "          0                     ───────────────────────────────────────       \n",
       "                                                   8                          \n",
       "\n",
       " 1)⋅(η + 1)⋅(ξ + 1)⋅(ζ + 1)                                                   \n",
       "────────────────────────────                  0                               \n",
       "           4                                                                  \n",
       "                                                                              \n",
       "                              -(η - 1)⋅(η + 1)⋅(ξ + 1)⋅(ζ + 1)                \n",
       "           0                  ─────────────────────────────────               \n",
       "                                              4                               \n",
       "                                                                              \n",
       "                                                                 -(η - 1)⋅(η +\n",
       "           0                                  0                  ─────────────\n",
       "                                                                              \n",
       "\n",
       "                      -(η + 1)⋅(ξ - 1)⋅(ξ + 1)⋅(ζ + 1)                        \n",
       "   0                  ─────────────────────────────────                  0    \n",
       "                                      4                                       \n",
       "                                                                              \n",
       "                                                         -(η + 1)⋅(ξ - 1)⋅(ξ +\n",
       "   0                                  0                  ─────────────────────\n",
       "                                                                         4    \n",
       "                                                                              \n",
       " 1)⋅(ξ + 1)⋅(ζ + 1)                                                           \n",
       "────────────────────                  0                                  0    \n",
       "   4                                                                          \n",
       "\n",
       "                                                 (η - 1)⋅(η + 1)⋅(ξ - 1)⋅(ζ + \n",
       "                              0                  ─────────────────────────────\n",
       "                                                                4             \n",
       "                                                                              \n",
       " 1)⋅(ζ + 1)                                                                   \n",
       "────────────                  0                                 0             \n",
       "                                                                              \n",
       "                                                                              \n",
       "              -(η + 1)⋅(ξ - 1)⋅(ξ + 1)⋅(ζ + 1)                                \n",
       "              ─────────────────────────────────                 0             \n",
       "                              4                                               \n",
       "\n",
       "1)                                                                    (η - 1)⋅\n",
       "──                 0                                0                 ────────\n",
       "                                                                              \n",
       "                                                                              \n",
       "    (η - 1)⋅(η + 1)⋅(ξ - 1)⋅(ζ + 1)                                           \n",
       "    ───────────────────────────────                 0                         \n",
       "                   4                                                          \n",
       "                                                                              \n",
       "                                     (η - 1)⋅(η + 1)⋅(ξ - 1)⋅(ζ + 1)          \n",
       "                   0                 ───────────────────────────────          \n",
       "                                                    4                         \n",
       "\n",
       "(ξ - 1)⋅(ξ + 1)⋅(ζ + 1)                                                       \n",
       "───────────────────────                 0                                0    \n",
       "       4                                                                      \n",
       "                                                                              \n",
       "                         (η - 1)⋅(ξ - 1)⋅(ξ + 1)⋅(ζ + 1)                      \n",
       "       0                 ───────────────────────────────                 0    \n",
       "                                        4                                     \n",
       "                                                                              \n",
       "                                                          (η - 1)⋅(ξ - 1)⋅(ξ +\n",
       "       0                                0                 ────────────────────\n",
       "                                                                         4    \n",
       "\n",
       "             -(η + 1)⋅(ξ + 1)⋅(ζ - 1)⋅(ζ + 1)                                 \n",
       "             ─────────────────────────────────                  0             \n",
       "                             4                                                \n",
       "                                                                              \n",
       "                                                -(η + 1)⋅(ξ + 1)⋅(ζ - 1)⋅(ζ + \n",
       "                             0                  ──────────────────────────────\n",
       "                                                                4             \n",
       "                                                                              \n",
       " 1)⋅(ζ + 1)                                                                   \n",
       "───────────                  0                                  0             \n",
       "                                                                              \n",
       "\n",
       "                                        (η - 1)⋅(ξ + 1)⋅(ζ - 1)⋅(ζ + 1)       \n",
       "                     0                  ───────────────────────────────       \n",
       "                                                       4                      \n",
       "                                                                              \n",
       "1)                                                                       (η - \n",
       "───                  0                                 0                 ─────\n",
       "                                                                              \n",
       "                                                                              \n",
       "     -(η + 1)⋅(ξ + 1)⋅(ζ - 1)⋅(ζ + 1)                                         \n",
       "     ─────────────────────────────────                 0                      \n",
       "                     4                                                        \n",
       "\n",
       "                                                             -(η - 1)⋅(ξ - 1)⋅\n",
       "          0                                0                 ─────────────────\n",
       "                                                                             4\n",
       "                                                                              \n",
       "1)⋅(ξ + 1)⋅(ζ - 1)⋅(ζ + 1)                                                    \n",
       "──────────────────────────                 0                                 0\n",
       "          4                                                                   \n",
       "                                                                              \n",
       "                            (η - 1)⋅(ξ + 1)⋅(ζ - 1)⋅(ζ + 1)                   \n",
       "          0                 ───────────────────────────────                  0\n",
       "                                           4                                  \n",
       "\n",
       "(ζ - 1)⋅(ζ + 1)                                                               \n",
       "────────────────                  0                                  0        \n",
       "                                                                              \n",
       "                                                                              \n",
       "                  -(η - 1)⋅(ξ - 1)⋅(ζ - 1)⋅(ζ + 1)                            \n",
       "                  ─────────────────────────────────                  0        \n",
       "                                  4                                           \n",
       "                                                                              \n",
       "                                                     -(η - 1)⋅(ξ - 1)⋅(ζ - 1)⋅\n",
       "                                  0                  ─────────────────────────\n",
       "                                                                     4        \n",
       "\n",
       "          (η + 1)⋅(ξ - 1)⋅(ζ - 1)⋅(ζ + 1)                                     \n",
       "          ───────────────────────────────                 0                   \n",
       "                         4                                                    \n",
       "                                                                              \n",
       "                                           (η + 1)⋅(ξ - 1)⋅(ζ - 1)⋅(ζ + 1)    \n",
       "                         0                 ───────────────────────────────    \n",
       "                                                          4                   \n",
       "                                                                              \n",
       "(ζ + 1)                                                                     (η\n",
       "────────                 0                                0                 ──\n",
       "                                                                              \n",
       "\n",
       "                               (η - 1)⋅(η + 1)⋅(ξ + 1)⋅(ζ - 1)                \n",
       "             0                 ───────────────────────────────                \n",
       "                                              4                               \n",
       "                                                                              \n",
       "                                                                (η - 1)⋅(η + 1\n",
       "             0                                0                 ──────────────\n",
       "                                                                              \n",
       "                                                                              \n",
       " + 1)⋅(ξ - 1)⋅(ζ - 1)⋅(ζ + 1)                                                 \n",
       "─────────────────────────────                 0                               \n",
       "             4                                                                \n",
       "\n",
       "                                                    (η + 1)⋅(ξ - 1)⋅(ξ + 1)⋅(ζ\n",
       " 0                                0                 ──────────────────────────\n",
       "                                                                   4          \n",
       "                                                                              \n",
       ")⋅(ξ + 1)⋅(ζ - 1)                                                             \n",
       "─────────────────                 0                                0          \n",
       " 4                                                                            \n",
       "                                                                              \n",
       "                   (η - 1)⋅(η + 1)⋅(ξ + 1)⋅(ζ - 1)                            \n",
       " 0                 ───────────────────────────────                 0          \n",
       "                                  4                                           \n",
       "\n",
       " - 1)                                                                    -(η -\n",
       "─────                 0                                0                 ─────\n",
       "                                                                              \n",
       "                                                                              \n",
       "       (η + 1)⋅(ξ - 1)⋅(ξ + 1)⋅(ζ - 1)                                        \n",
       "       ───────────────────────────────                 0                      \n",
       "                      4                                                       \n",
       "                                                                              \n",
       "                                        (η + 1)⋅(ξ - 1)⋅(ξ + 1)⋅(ζ - 1)       \n",
       "                      0                 ───────────────────────────────       \n",
       "                                                       4                      \n",
       "\n",
       " 1)⋅(η + 1)⋅(ξ - 1)⋅(ζ - 1)                                                   \n",
       "────────────────────────────                  0                               \n",
       "           4                                                                  \n",
       "                                                                              \n",
       "                              -(η - 1)⋅(η + 1)⋅(ξ - 1)⋅(ζ - 1)                \n",
       "           0                  ─────────────────────────────────               \n",
       "                                              4                               \n",
       "                                                                              \n",
       "                                                                 -(η - 1)⋅(η +\n",
       "           0                                  0                  ─────────────\n",
       "                                                                              \n",
       "\n",
       "                      -(η - 1)⋅(ξ - 1)⋅(ξ + 1)⋅(ζ - 1)                        \n",
       "   0                  ─────────────────────────────────                  0    \n",
       "                                      4                                       \n",
       "                                                                              \n",
       "                                                         -(η - 1)⋅(ξ - 1)⋅(ξ +\n",
       "   0                                  0                  ─────────────────────\n",
       "                                                                         4    \n",
       "                                                                              \n",
       " 1)⋅(ξ - 1)⋅(ζ - 1)                                                           \n",
       "────────────────────                  0                                  0    \n",
       "   4                                                                          \n",
       "\n",
       "                                               ⎤\n",
       "                              0                ⎥\n",
       "                                               ⎥\n",
       "                                               ⎥\n",
       " 1)⋅(ζ - 1)                                    ⎥\n",
       "────────────                  0                ⎥\n",
       "                                               ⎥\n",
       "                                               ⎥\n",
       "              -(η - 1)⋅(ξ - 1)⋅(ξ + 1)⋅(ζ - 1) ⎥\n",
       "              ─────────────────────────────────⎥\n",
       "                              4                ⎦"
      ]
     },
     "execution_count": 17,
     "metadata": {},
     "output_type": "execute_result"
    }
   ],
   "source": [
    "surface_exclude = finite_element.interpolation.SurfaceExclude([xi, eta, zeta])\n",
    "surface_exclude.add_surface(xi + 1)\n",
    "surface_exclude.add_surface(xi - 1)\n",
    "surface_exclude.add_surface(eta + 1)\n",
    "surface_exclude.add_surface(eta - 1)\n",
    "surface_exclude.add_surface(zeta + 1)\n",
    "surface_exclude.add_surface(zeta - 1)\n",
    "serendipity = finite_element.interpolation.Serendipity([xi, eta, zeta])\n",
    "[serendipity.add_formula(surface_exclude.get_interpolation_function(coordinate), coordinate)\n",
    " for coordinate in local_coordinates]\n",
    "interpolation_functions = [diag(1,1,1) * f for f in serendipity.formulas]\n",
    "interpolation_functions = Matrix(interpolation_functions)\n",
    "interpolation_functions.T"
   ]
  },
  {
   "cell_type": "markdown",
   "metadata": {},
   "source": [
    "计算等参元坐标插值函数"
   ]
  },
  {
   "cell_type": "code",
   "execution_count": 18,
   "metadata": {},
   "outputs": [
    {
     "data": {
      "text/latex": [
       "$$\\left[\\begin{array}{cccccccccccccccccccc}\\frac{a}{2} & \\frac{a}{2} & \\frac{a}{2} & \\frac{a}{2} & - \\frac{a}{2} & - \\frac{a}{2} & - \\frac{a}{2} & - \\frac{a}{2} & \\frac{a}{2} & 0 & - \\frac{a}{2} & 0 & \\frac{a}{2} & \\frac{a}{2} & - \\frac{a}{2} & - \\frac{a}{2} & \\frac{a}{2} & 0 & - \\frac{a}{2} & 0\\\\\\frac{b}{2} & \\frac{b}{2} & - \\frac{b}{2} & - \\frac{b}{2} & \\frac{b}{2} & \\frac{b}{2} & - \\frac{b}{2} & - \\frac{b}{2} & 0 & \\frac{b}{2} & 0 & - \\frac{b}{2} & \\frac{b}{2} & - \\frac{b}{2} & - \\frac{b}{2} & \\frac{b}{2} & 0 & \\frac{b}{2} & 0 & - \\frac{b}{2}\\\\\\frac{c}{2} & - \\frac{c}{2} & \\frac{c}{2} & - \\frac{c}{2} & \\frac{c}{2} & - \\frac{c}{2} & \\frac{c}{2} & - \\frac{c}{2} & \\frac{c}{2} & \\frac{c}{2} & \\frac{c}{2} & \\frac{c}{2} & 0 & 0 & 0 & 0 & - \\frac{c}{2} & - \\frac{c}{2} & - \\frac{c}{2} & - \\frac{c}{2}\\end{array}\\right]$$"
      ],
      "text/plain": [
       "⎡a   a    a    a   -a   -a   -a   -a   a     -a        a   a   -a   -a    a   \n",
       "⎢─   ─    ─    ─   ───  ───  ───  ───  ─  0  ───   0   ─   ─   ───  ───   ─   \n",
       "⎢2   2    2    2    2    2    2    2   2      2        2   2    2    2    2   \n",
       "⎢                                                                             \n",
       "⎢b   b   -b   -b    b    b   -b   -b      b       -b   b  -b   -b    b        \n",
       "⎢─   ─   ───  ───   ─    ─   ───  ───  0  ─   0   ───  ─  ───  ───   ─    0   \n",
       "⎢2   2    2    2    2    2    2    2      2        2   2   2    2    2        \n",
       "⎢                                                                             \n",
       "⎢c  -c    c   -c    c   -c    c   -c   c  c   c    c                     -c   \n",
       "⎢─  ───   ─   ───   ─   ───   ─   ───  ─  ─   ─    ─   0   0    0    0   ───  \n",
       "⎣2   2    2    2    2    2    2    2   2  2   2    2                      2   \n",
       "\n",
       "     -a      ⎤\n",
       " 0   ───   0 ⎥\n",
       "      2      ⎥\n",
       "             ⎥\n",
       " b        -b ⎥\n",
       " ─    0   ───⎥\n",
       " 2         2 ⎥\n",
       "             ⎥\n",
       "-c   -c   -c ⎥\n",
       "───  ───  ───⎥\n",
       " 2    2    2 ⎦"
      ]
     },
     "execution_count": 18,
     "metadata": {},
     "output_type": "execute_result"
    }
   ],
   "source": [
    "global_coordinates = [(_x*a/2,_y*b/2,_z*c/2) for _x,_y,_z in local_coordinates]\n",
    "Matrix(global_coordinates).T"
   ]
  },
  {
   "cell_type": "code",
   "execution_count": 19,
   "metadata": {},
   "outputs": [
    {
     "data": {
      "image/png": "[encoded data removed]",
      "text/latex": [
       "$$\\left ( \\frac{a \\xi}{2}, \\quad \\frac{b \\eta}{2}, \\quad \\frac{c \\zeta}{2}\\right )$$"
      ],
      "text/plain": [
       "⎛a⋅ξ  b⋅η  c⋅ζ⎞\n",
       "⎜───, ───, ───⎟\n",
       "⎝ 2    2    2 ⎠"
      ]
     },
     "execution_count": 19,
     "metadata": {},
     "output_type": "execute_result"
    }
   ],
   "source": [
    "isoparametric = finite_element.interpolation.Isoparametric(\n",
    "    local_axises=[xi,eta,zeta],\n",
    "    global_axises=[x,y,z],\n",
    "    interpolation_functions=serendipity.formulas,\n",
    "    coordinates=global_coordinates,\n",
    ")\n",
    "x,y,z = isoparametric.coordinate_interpolation_functions\n",
    "x,y,z"
   ]
  },
  {
   "cell_type": "markdown",
   "metadata": {},
   "source": [
    "计算$jacobian$和$A$两个坐标变换。"
   ]
  },
  {
   "cell_type": "code",
   "execution_count": 20,
   "metadata": {},
   "outputs": [
    {
     "data": {
      "image/png": "[encoded data removed]",
      "text/latex": [
       "$$\\frac{a b c}{8}$$"
      ],
      "text/plain": [
       "a⋅b⋅c\n",
       "─────\n",
       "  8  "
      ]
     },
     "execution_count": 20,
     "metadata": {},
     "output_type": "execute_result"
    }
   ],
   "source": [
    "jacobian = Matrix([\n",
    "    [x.diff(xi), y.diff(xi), z.diff(xi)],\n",
    "    [x.diff(eta), y.diff(eta), z.diff(eta)],\n",
    "    [x.diff(zeta), y.diff(zeta), z.diff(zeta)],    \n",
    "]).det()\n",
    "jacobian"
   ]
  },
  {
   "cell_type": "code",
   "execution_count": 21,
   "metadata": {},
   "outputs": [
    {
     "data": {
      "image/png": "[encoded data removed]",
      "text/latex": [
       "$$\\frac{\\sqrt{b^{2} c^{2}}}{4}$$"
      ],
      "text/plain": [
       "   _______\n",
       "  ╱  2  2 \n",
       "╲╱  b ⋅c  \n",
       "──────────\n",
       "    4     "
      ]
     },
     "execution_count": 21,
     "metadata": {},
     "output_type": "execute_result"
    }
   ],
   "source": [
    "A = sqrt(\n",
    "    (y.diff(eta) * z.diff(zeta) - y.diff(zeta) * z.diff(eta)) ** 2 +\n",
    "    (z.diff(eta) * x.diff(zeta) - z.diff(zeta) * x.diff(eta)) ** 2 +\n",
    "    (x.diff(eta) * y.diff(zeta) - x.diff(zeta) * y.diff(eta)) ** 2\n",
    ")\n",
    "A"
   ]
  },
  {
   "cell_type": "markdown",
   "metadata": {},
   "source": [
    "手动调整A的值"
   ]
  },
  {
   "cell_type": "code",
   "execution_count": 22,
   "metadata": {},
   "outputs": [
    {
     "data": {
      "image/png": "[encoded data removed]",
      "text/latex": [
       "$$\\frac{b c}{4}$$"
      ],
      "text/plain": [
       "b⋅c\n",
       "───\n",
       " 4 "
      ]
     },
     "execution_count": 22,
     "metadata": {},
     "output_type": "execute_result"
    }
   ],
   "source": [
    "A = b*c/4\n",
    "A"
   ]
  },
  {
   "cell_type": "markdown",
   "metadata": {},
   "source": [
    "出于篇幅考虑，以下省略y、z方向上的均为0的荷载分量。"
   ]
  },
  {
   "cell_type": "code",
   "execution_count": 23,
   "metadata": {},
   "outputs": [],
   "source": [
    "interpolation_functions = Matrix(serendipity.formulas)"
   ]
  },
  {
   "cell_type": "markdown",
   "metadata": {},
   "source": [
    "### 情况1\n",
    "在x正方向上有一分布载荷作用在$\\xi=1$的边上，载荷在$\\eta=-1$为零；在$\\eta=1$为$q_0$，呈线性变化。"
   ]
  },
  {
   "cell_type": "code",
   "execution_count": 24,
   "metadata": {},
   "outputs": [
    {
     "data": {
      "text/latex": [
       "$$\\left[\\begin{matrix}\\frac{\\eta q_{0}}{2} + \\frac{q_{0}}{2}\\end{matrix}\\right]$$"
      ],
      "text/plain": [
       "⎡η⋅q₀   q₀⎤\n",
       "⎢──── + ──⎥\n",
       "⎣ 2     2 ⎦"
      ]
     },
     "execution_count": 24,
     "metadata": {},
     "output_type": "execute_result"
    }
   ],
   "source": [
    "load = Matrix([q0/2+q0*eta/2])\n",
    "load.T"
   ]
  },
  {
   "cell_type": "code",
   "execution_count": 25,
   "metadata": {},
   "outputs": [
    {
     "data": {
      "text/latex": [
       "$$\\left[\\begin{array}{cccccccccccccccccccc}- \\frac{b c q_{0}}{36} & - \\frac{b c q_{0}}{36} & - \\frac{b c q_{0}}{18} & - \\frac{b c q_{0}}{18} & 0 & 0 & 0 & 0 & \\frac{b c q_{0}}{6} & 0 & 0 & 0 & \\frac{2 b c q_{0}}{9} & \\frac{b c q_{0}}{9} & 0 & 0 & \\frac{b c q_{0}}{6} & 0 & 0 & 0\\end{array}\\right]$$"
      ],
      "text/plain": [
       "⎡-b⋅c⋅q₀   -b⋅c⋅q₀   -b⋅c⋅q₀   -b⋅c⋅q₀               b⋅c⋅q₀           2⋅b⋅c⋅q₀\n",
       "⎢────────  ────────  ────────  ────────  0  0  0  0  ──────  0  0  0  ────────\n",
       "⎣   36        36        18        18                   6                 9    \n",
       "\n",
       "  b⋅c⋅q₀        b⋅c⋅q₀         ⎤\n",
       "  ──────  0  0  ──────  0  0  0⎥\n",
       "    9             6            ⎦"
      ]
     },
     "execution_count": 25,
     "metadata": {},
     "output_type": "execute_result"
    }
   ],
   "source": [
    "integrate(integrate(\n",
    "    interpolation_functions * load * A,\n",
    "    (eta, -1, 1)), (zeta, -1, 1)).subs({xi: 1}).T"
   ]
  },
  {
   "cell_type": "markdown",
   "metadata": {},
   "source": [
    "### 情况2"
   ]
  },
  {
   "cell_type": "markdown",
   "metadata": {},
   "source": [
    "在$\\xi=1$边上作用有均布载荷$q_0$，方向压向单元。"
   ]
  },
  {
   "cell_type": "code",
   "execution_count": 26,
   "metadata": {},
   "outputs": [
    {
     "data": {
      "text/latex": [
       "$$\\left[\\begin{matrix}- q_{0}\\end{matrix}\\right]$$"
      ],
      "text/plain": [
       "[-q₀]"
      ]
     },
     "execution_count": 26,
     "metadata": {},
     "output_type": "execute_result"
    }
   ],
   "source": [
    "load = Matrix([-q0])\n",
    "load.T"
   ]
  },
  {
   "cell_type": "code",
   "execution_count": 27,
   "metadata": {},
   "outputs": [
    {
     "data": {
      "text/latex": [
       "$$\\left[\\begin{array}{cccccccccccccccccccc}\\frac{b c q_{0}}{12} & \\frac{b c q_{0}}{12} & \\frac{b c q_{0}}{12} & \\frac{b c q_{0}}{12} & 0 & 0 & 0 & 0 & - \\frac{b c q_{0}}{3} & 0 & 0 & 0 & - \\frac{b c q_{0}}{3} & - \\frac{b c q_{0}}{3} & 0 & 0 & - \\frac{b c q_{0}}{3} & 0 & 0 & 0\\end{array}\\right]$$"
      ],
      "text/plain": [
       "⎡b⋅c⋅q₀  b⋅c⋅q₀  b⋅c⋅q₀  b⋅c⋅q₀              -b⋅c⋅q₀            -b⋅c⋅q₀   -b⋅c\n",
       "⎢──────  ──────  ──────  ──────  0  0  0  0  ────────  0  0  0  ────────  ────\n",
       "⎣  12      12      12      12                   3                  3         3\n",
       "\n",
       "⋅q₀         -b⋅c⋅q₀          ⎤\n",
       "────  0  0  ────────  0  0  0⎥\n",
       "               3             ⎦"
      ]
     },
     "execution_count": 27,
     "metadata": {},
     "output_type": "execute_result"
    }
   ],
   "source": [
    "integrate(integrate(\n",
    "    interpolation_functions * load * A,\n",
    "    (eta, -1, 1)), (zeta, -1, 1)).subs({xi: 1}).T"
   ]
  },
  {
   "cell_type": "markdown",
   "metadata": {},
   "source": [
    "### 情况3"
   ]
  },
  {
   "cell_type": "markdown",
   "metadata": {},
   "source": [
    "在$y$正方向作用有均布的体积力$b_0$。"
   ]
  },
  {
   "cell_type": "code",
   "execution_count": 28,
   "metadata": {},
   "outputs": [
    {
     "data": {
      "text/latex": [
       "$$\\left[\\begin{matrix}b_{0}\\end{matrix}\\right]$$"
      ],
      "text/plain": [
       "[b₀]"
      ]
     },
     "execution_count": 28,
     "metadata": {},
     "output_type": "execute_result"
    }
   ],
   "source": [
    "load = Matrix([b0])\n",
    "load.T"
   ]
  },
  {
   "cell_type": "code",
   "execution_count": 29,
   "metadata": {},
   "outputs": [
    {
     "data": {
      "text/latex": [
       "$$\\left[\\begin{array}{cccccccccccccccccccc}- \\frac{a b b_{0} c}{8} & - \\frac{a b b_{0} c}{8} & - \\frac{a b b_{0} c}{8} & - \\frac{a b b_{0} c}{8} & - \\frac{a b b_{0} c}{8} & - \\frac{a b b_{0} c}{8} & - \\frac{a b b_{0} c}{8} & - \\frac{a b b_{0} c}{8} & \\frac{a b b_{0} c}{6} & \\frac{a b b_{0} c}{6} & \\frac{a b b_{0} c}{6} & \\frac{a b b_{0} c}{6} & \\frac{a b b_{0} c}{6} & \\frac{a b b_{0} c}{6} & \\frac{a b b_{0} c}{6} & \\frac{a b b_{0} c}{6} & \\frac{a b b_{0} c}{6} & \\frac{a b b_{0} c}{6} & \\frac{a b b_{0} c}{6} & \\frac{a b b_{0} c}{6}\\end{array}\\right]$$"
      ],
      "text/plain": [
       "⎡-a⋅b⋅b₀⋅c   -a⋅b⋅b₀⋅c   -a⋅b⋅b₀⋅c   -a⋅b⋅b₀⋅c   -a⋅b⋅b₀⋅c   -a⋅b⋅b₀⋅c   -a⋅b⋅\n",
       "⎢──────────  ──────────  ──────────  ──────────  ──────────  ──────────  ─────\n",
       "⎣    8           8           8           8           8           8           8\n",
       "\n",
       "b₀⋅c   -a⋅b⋅b₀⋅c   a⋅b⋅b₀⋅c  a⋅b⋅b₀⋅c  a⋅b⋅b₀⋅c  a⋅b⋅b₀⋅c  a⋅b⋅b₀⋅c  a⋅b⋅b₀⋅c \n",
       "─────  ──────────  ────────  ────────  ────────  ────────  ────────  ──────── \n",
       "           8          6         6         6         6         6         6     \n",
       "\n",
       " a⋅b⋅b₀⋅c  a⋅b⋅b₀⋅c  a⋅b⋅b₀⋅c  a⋅b⋅b₀⋅c  a⋅b⋅b₀⋅c  a⋅b⋅b₀⋅c⎤\n",
       " ────────  ────────  ────────  ────────  ────────  ────────⎥\n",
       "    6         6         6         6         6         6    ⎦"
      ]
     },
     "execution_count": 29,
     "metadata": {},
     "output_type": "execute_result"
    }
   ],
   "source": [
    "integrate(integrate(integrate(\n",
    "    interpolation_functions * load * jacobian,\n",
    "    (eta, -1, 1)), (zeta, -1, 1)), (xi, -1, 1)).T"
   ]
  }
 ],
 "metadata": {
  "kernelspec": {
   "display_name": "Python 3",
   "language": "python",
   "name": "python3"
  },
  "language_info": {
   "codemirror_mode": {
    "name": "ipython",
    "version": 3
   },
   "file_extension": ".py",
   "mimetype": "text/x-python",
   "name": "python",
   "nbconvert_exporter": "python",
   "pygments_lexer": "ipython3",
   "version": "3.7.2"
  }
 },
 "nbformat": 4,
 "nbformat_minor": 1
}
