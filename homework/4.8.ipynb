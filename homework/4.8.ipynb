{
 "cells": [
  {
   "cell_type": "markdown",
   "metadata": {
    "collapsed": true
   },
   "source": [
    "# 4.8\n",
    "证明：\n",
    "若在(-1,1)区间内的任意二次、三次曲线在$\\pm\\frac{1}{\\sqrt{3}}$两点和一直线相交，\n",
    "则曲线下的面积和直线下的面积相等。\n",
    "（目的：证明2点高斯积分具有三次精度。）"
   ]
  },
  {
   "cell_type": "code",
   "execution_count": null,
   "metadata": {},
   "outputs": [],
   "source": [
    "import sympy\n",
    "from sympy.abc import x, y\n",
    "from sympy import sqrt, Rational, Symbol, solve, symbols, Matrix\n",
    "sympy.init_printing()"
   ]
  },
  {
   "cell_type": "code",
   "execution_count": 59,
   "metadata": {},
   "outputs": [],
   "source": [
    "y1, y2, y3, y4 = symbols('y_1 y_2 y_3 y_4')"
   ]
  },
  {
   "cell_type": "markdown",
   "metadata": {},
   "source": [
    "假设交点为："
   ]
  },
  {
   "cell_type": "code",
   "execution_count": 12,
   "metadata": {},
   "outputs": [
    {
     "data": {
      "image/png": "[encoded data removed]",
      "text/plain": [
       "⎛√3      -√3     ⎞\n",
       "⎜──, y₁, ────, y₂⎟\n",
       "⎝3        3      ⎠"
      ]
     },
     "execution_count": 12,
     "metadata": {},
     "output_type": "execute_result"
    }
   ],
   "source": [
    "x1 = sqrt(Rational(1, 3))\n",
    "x2 = - x1\n",
    "x1, y1, x2, y2"
   ]
  },
  {
   "cell_type": "markdown",
   "metadata": {},
   "source": [
    "直线："
   ]
  },
  {
   "cell_type": "code",
   "execution_count": 28,
   "metadata": {},
   "outputs": [
    {
     "data": {
      "image/png": "[encoded data removed]",
      "text/plain": [
       "√3⋅x⋅y₁   √3⋅x⋅y₂   y₁   y₂\n",
       "─────── - ─────── + ── + ──\n",
       "   2         2      2    2 "
      ]
     },
     "execution_count": 28,
     "metadata": {},
     "output_type": "execute_result"
    }
   ],
   "source": [
    "line = solve((y-y1)/(x-x1)-(y2-y1)/(x2-x1), y)[0]\n",
    "line"
   ]
  },
  {
   "cell_type": "markdown",
   "metadata": {},
   "source": [
    "曲线："
   ]
  },
  {
   "cell_type": "code",
   "execution_count": 80,
   "metadata": {},
   "outputs": [
    {
     "data": {
      "image/png": "[encoded data removed]",
      "text/plain": [
       "                                        3            3         2         2   \n",
       "        2              3          3⋅√3⋅x ⋅y₁   3⋅√3⋅x ⋅y₂   3⋅x ⋅y₁   3⋅x ⋅y₂\n",
       "- 3⋅a₀⋅x  + a₀ - 3⋅a₁⋅x  + a₁⋅x + ────────── - ────────── + ─────── + ───────\n",
       "                                      2            2           2         2   "
      ]
     },
     "execution_count": 80,
     "metadata": {},
     "output_type": "execute_result"
    }
   ],
   "source": [
    "a0, a1, a2, a3 = symbols('a_0 a_1 a_2 a_3')\n",
    "curve = a0 + a1*x + a2*x**2 + a3*x**3\n",
    "functions = [\n",
    "    curve - y,\n",
    "    curve.subs({x:sqrt(Rational(1,3))}) - y1,\n",
    "    curve.subs({x:-sqrt(Rational(1,3))}) - y2,\n",
    "]\n",
    "curve = solve(functions, y, a2, a3)[y]\n",
    "curve"
   ]
  },
  {
   "cell_type": "markdown",
   "metadata": {},
   "source": [
    "积分"
   ]
  },
  {
   "cell_type": "code",
   "execution_count": 81,
   "metadata": {},
   "outputs": [
    {
     "data": {
      "image/png": "[encoded data removed]",
      "text/plain": [
       "y₁ + y₂"
      ]
     },
     "execution_count": 81,
     "metadata": {},
     "output_type": "execute_result"
    }
   ],
   "source": [
    "sympy.integrate(line, (x, -1, 1))"
   ]
  },
  {
   "cell_type": "code",
   "execution_count": 82,
   "metadata": {},
   "outputs": [
    {
     "data": {
      "image/png": "[encoded data removed]",
      "text/plain": [
       "y₁ + y₂"
      ]
     },
     "execution_count": 82,
     "metadata": {},
     "output_type": "execute_result"
    }
   ],
   "source": [
    "sympy.integrate(curve, (x, -1, 1))"
   ]
  },
  {
   "cell_type": "markdown",
   "metadata": {},
   "source": [
    "二者积分值相等，说明高斯积分有3次的精度。"
   ]
  }
 ],
 "metadata": {
  "kernelspec": {
   "display_name": "Python 3",
   "language": "python",
   "name": "python3"
  },
  "language_info": {
   "codemirror_mode": {
    "name": "ipython",
    "version": 3
   },
   "file_extension": ".py",
   "mimetype": "text/x-python",
   "name": "python",
   "nbconvert_exporter": "python",
   "pygments_lexer": "ipython3",
   "version": "3.7.2"
  }
 },
 "nbformat": 4,
 "nbformat_minor": 1
}
