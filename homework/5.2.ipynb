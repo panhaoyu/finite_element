{
 "cells": [
  {
   "cell_type": "markdown",
   "metadata": {
    "collapsed": true
   },
   "source": [
    "# 5.2"
   ]
  },
  {
   "cell_type": "code",
   "execution_count": 12,
   "metadata": {},
   "outputs": [],
   "source": [
    "import sympy\n",
    "from sympy import Matrix, Symbol, diag, ones, zeros, integrate\n",
    "from sympy.abc import xi, m, x, l, omega, E, A\n",
    "sympy.init_printing()"
   ]
  },
  {
   "cell_type": "markdown",
   "metadata": {},
   "source": [
    "水平放置的等截面直杆绕支点O在水平面内以角速度$\\omega$旋转，\n",
    "为求出中点C和支点O处的应力，用两个3结点直杆单元进行有限元分析，\n",
    "分析后分别用总体磨平、单元磨平、分片磨平方法进行应力处理，\n",
    "得到C点和O点的应力值，\n",
    "并和解析解相比较。"
   ]
  },
  {
   "cell_type": "markdown",
   "metadata": {},
   "source": [
    "## 坐标系"
   ]
  },
  {
   "cell_type": "markdown",
   "metadata": {},
   "source": [
    "局部坐标采用$\\xi=-1\\sim 1$。"
   ]
  },
  {
   "cell_type": "markdown",
   "metadata": {},
   "source": [
    "## 位移插值函数"
   ]
  },
  {
   "cell_type": "code",
   "execution_count": 4,
   "metadata": {},
   "outputs": [
    {
     "data": {
      "image/png": "[encoded data removed]",
      "text/latex": [
       "$$\\left [ \\frac{\\xi \\left(\\xi - 1\\right)}{2}, \\quad - \\left(\\xi - 1\\right) \\left(\\xi + 1\\right), \\quad \\frac{\\xi \\left(\\xi + 1\\right)}{2}\\right ]$$"
      ],
      "text/plain": [
       "⎡ξ⋅(ξ - 1)                    ξ⋅(ξ + 1)⎤\n",
       "⎢─────────, -(ξ - 1)⋅(ξ + 1), ─────────⎥\n",
       "⎣    2                            2    ⎦"
      ]
     },
     "execution_count": 4,
     "metadata": {},
     "output_type": "execute_result"
    }
   ],
   "source": [
    "interpolation_function = [\n",
    "    ((xi - 0) * (xi - 1)) / ((-1 - 0) * (-1 - 1)),\n",
    "    ((xi + 1) * (xi - 1)) / ((0 + 1) * (0 - 1)),\n",
    "    ((xi + 1) * (xi - 0)) / ((1 + 1) * (1 - 0)),\n",
    "]\n",
    "interpolation_function"
   ]
  },
  {
   "cell_type": "code",
   "execution_count": 5,
   "metadata": {},
   "outputs": [
    {
     "data": {
      "text/latex": [
       "$$\\left[\\begin{matrix}\\frac{\\xi \\left(\\xi - 1\\right)}{2} & - \\left(\\xi - 1\\right) \\left(\\xi + 1\\right) & \\frac{\\xi \\left(\\xi + 1\\right)}{2}\\end{matrix}\\right]$$"
      ],
      "text/plain": [
       "⎡ξ⋅(ξ - 1)                    ξ⋅(ξ + 1)⎤\n",
       "⎢─────────  -(ξ - 1)⋅(ξ + 1)  ─────────⎥\n",
       "⎣    2                            2    ⎦"
      ]
     },
     "execution_count": 5,
     "metadata": {},
     "output_type": "execute_result"
    }
   ],
   "source": [
    "N = [f for f in interpolation_function]\n",
    "N = Matrix(N).T\n",
    "N"
   ]
  },
  {
   "cell_type": "markdown",
   "metadata": {},
   "source": [
    "## 应变矩阵"
   ]
  },
  {
   "cell_type": "code",
   "execution_count": 6,
   "metadata": {},
   "outputs": [
    {
     "data": {
      "text/latex": [
       "$$\\left[\\begin{matrix}\\xi - \\frac{1}{2} & - 2 \\xi & \\xi + \\frac{1}{2}\\end{matrix}\\right]$$"
      ],
      "text/plain": [
       "[ξ - 1/2  -2⋅ξ  ξ + 1/2]"
      ]
     },
     "execution_count": 6,
     "metadata": {},
     "output_type": "execute_result"
    }
   ],
   "source": [
    "B = [f.diff(xi) for f in interpolation_function]\n",
    "B = Matrix(B).T\n",
    "B"
   ]
  },
  {
   "cell_type": "markdown",
   "metadata": {},
   "source": [
    "## 弹性矩阵"
   ]
  },
  {
   "cell_type": "code",
   "execution_count": 7,
   "metadata": {},
   "outputs": [
    {
     "data": {
      "image/png": "[encoded data removed]",
      "text/latex": [
       "$$A E$$"
      ],
      "text/plain": [
       "A⋅E"
      ]
     },
     "execution_count": 7,
     "metadata": {},
     "output_type": "execute_result"
    }
   ],
   "source": [
    "D = E * A\n",
    "D"
   ]
  },
  {
   "cell_type": "markdown",
   "metadata": {},
   "source": [
    "## 应力矩阵"
   ]
  },
  {
   "cell_type": "markdown",
   "metadata": {},
   "source": [
    "应力矩阵"
   ]
  },
  {
   "cell_type": "code",
   "execution_count": 8,
   "metadata": {},
   "outputs": [
    {
     "data": {
      "text/latex": [
       "$$\\left[\\begin{matrix}A E \\left(\\xi - \\frac{1}{2}\\right) & - 2 A E \\xi & A E \\left(\\xi + \\frac{1}{2}\\right)\\end{matrix}\\right]$$"
      ],
      "text/plain": [
       "[A⋅E⋅(ξ - 1/2)  -2⋅A⋅E⋅ξ  A⋅E⋅(ξ + 1/2)]"
      ]
     },
     "execution_count": 8,
     "metadata": {},
     "output_type": "execute_result"
    }
   ],
   "source": [
    "S = D * B\n",
    "S"
   ]
  },
  {
   "cell_type": "markdown",
   "metadata": {},
   "source": [
    "## 单元刚度矩阵"
   ]
  },
  {
   "cell_type": "code",
   "execution_count": 100,
   "metadata": {},
   "outputs": [
    {
     "data": {
      "text/latex": [
       "$$\\left[\\begin{matrix}\\frac{7 A E}{3 l} & - \\frac{8 A E}{3 l} & \\frac{A E}{3 l}\\\\- \\frac{8 A E}{3 l} & \\frac{16 A E}{3 l} & - \\frac{8 A E}{3 l}\\\\\\frac{A E}{3 l} & - \\frac{8 A E}{3 l} & \\frac{7 A E}{3 l}\\end{matrix}\\right]$$"
      ],
      "text/plain": [
       "⎡ 7⋅A⋅E   -8⋅A⋅E     A⋅E  ⎤\n",
       "⎢ ─────   ───────    ───  ⎥\n",
       "⎢  3⋅l      3⋅l      3⋅l  ⎥\n",
       "⎢                         ⎥\n",
       "⎢-8⋅A⋅E   16⋅A⋅E   -8⋅A⋅E ⎥\n",
       "⎢───────  ──────   ───────⎥\n",
       "⎢  3⋅l     3⋅l       3⋅l  ⎥\n",
       "⎢                         ⎥\n",
       "⎢  A⋅E    -8⋅A⋅E    7⋅A⋅E ⎥\n",
       "⎢  ───    ───────   ───── ⎥\n",
       "⎣  3⋅l      3⋅l      3⋅l  ⎦"
      ]
     },
     "execution_count": 100,
     "metadata": {},
     "output_type": "execute_result"
    }
   ],
   "source": [
    "Ke = integrate(2*E*A/l*N.T.diff(xi)*N.diff(xi), (xi,-1,1))\n",
    "Ke"
   ]
  },
  {
   "cell_type": "markdown",
   "metadata": {},
   "source": [
    "## 结点编号"
   ]
  },
  {
   "cell_type": "markdown",
   "metadata": {},
   "source": [
    "从左至右分别为1、2、3、4、5。"
   ]
  },
  {
   "cell_type": "markdown",
   "metadata": {},
   "source": [
    "## 总刚矩阵"
   ]
  },
  {
   "cell_type": "code",
   "execution_count": 101,
   "metadata": {},
   "outputs": [
    {
     "data": {
      "text/latex": [
       "$$\\left[\\begin{matrix}\\frac{7 A E}{3 l} & - \\frac{8 A E}{3 l} & \\frac{A E}{3 l} & 0 & 0\\\\- \\frac{8 A E}{3 l} & \\frac{16 A E}{3 l} & - \\frac{8 A E}{3 l} & 0 & 0\\\\\\frac{A E}{3 l} & - \\frac{8 A E}{3 l} & \\frac{14 A E}{3 l} & - \\frac{8 A E}{3 l} & \\frac{A E}{3 l}\\\\0 & 0 & - \\frac{8 A E}{3 l} & \\frac{16 A E}{3 l} & - \\frac{8 A E}{3 l}\\\\0 & 0 & \\frac{A E}{3 l} & - \\frac{8 A E}{3 l} & \\frac{7 A E}{3 l}\\end{matrix}\\right]$$"
      ],
      "text/plain": [
       "⎡ 7⋅A⋅E   -8⋅A⋅E     A⋅E                    ⎤\n",
       "⎢ ─────   ───────    ───       0        0   ⎥\n",
       "⎢  3⋅l      3⋅l      3⋅l                    ⎥\n",
       "⎢                                           ⎥\n",
       "⎢-8⋅A⋅E   16⋅A⋅E   -8⋅A⋅E                   ⎥\n",
       "⎢───────  ──────   ───────     0        0   ⎥\n",
       "⎢  3⋅l     3⋅l       3⋅l                    ⎥\n",
       "⎢                                           ⎥\n",
       "⎢  A⋅E    -8⋅A⋅E   14⋅A⋅E   -8⋅A⋅E     A⋅E  ⎥\n",
       "⎢  ───    ───────  ──────   ───────    ───  ⎥\n",
       "⎢  3⋅l      3⋅l     3⋅l       3⋅l      3⋅l  ⎥\n",
       "⎢                                           ⎥\n",
       "⎢                  -8⋅A⋅E   16⋅A⋅E   -8⋅A⋅E ⎥\n",
       "⎢   0        0     ───────  ──────   ───────⎥\n",
       "⎢                    3⋅l     3⋅l       3⋅l  ⎥\n",
       "⎢                                           ⎥\n",
       "⎢                    A⋅E    -8⋅A⋅E    7⋅A⋅E ⎥\n",
       "⎢   0        0       ───    ───────   ───── ⎥\n",
       "⎣                    3⋅l      3⋅l      3⋅l  ⎦"
      ]
     },
     "execution_count": 101,
     "metadata": {},
     "output_type": "execute_result"
    }
   ],
   "source": [
    "K = zeros(5, 5)\n",
    "K[0:3, 0:3] += Ke\n",
    "K[2:5, 2:5] += Ke\n",
    "K"
   ]
  },
  {
   "cell_type": "markdown",
   "metadata": {},
   "source": [
    "## 荷载"
   ]
  },
  {
   "cell_type": "code",
   "execution_count": 18,
   "metadata": {},
   "outputs": [
    {
     "data": {
      "image/png": "[encoded data removed]",
      "text/latex": [
       "$$- m \\omega^{2} x$$"
      ],
      "text/plain": [
       "    2  \n",
       "-m⋅ω ⋅x"
      ]
     },
     "execution_count": 18,
     "metadata": {},
     "output_type": "execute_result"
    }
   ],
   "source": [
    "p = - m * x * omega ** 2\n",
    "p"
   ]
  },
  {
   "cell_type": "markdown",
   "metadata": {},
   "source": [
    "### 单元1荷载"
   ]
  },
  {
   "cell_type": "code",
   "execution_count": 19,
   "metadata": {},
   "outputs": [
    {
     "data": {
      "image/png": "[encoded data removed]",
      "text/latex": [
       "$$- l m \\omega^{2} \\left(\\frac{\\xi}{4} + \\frac{1}{4}\\right)$$"
      ],
      "text/plain": [
       "      2 ⎛ξ   1⎞\n",
       "-l⋅m⋅ω ⋅⎜─ + ─⎟\n",
       "        ⎝4   4⎠"
      ]
     },
     "execution_count": 19,
     "metadata": {},
     "output_type": "execute_result"
    }
   ],
   "source": [
    "p1 = p.subs({x: (xi+1)/4*l})\n",
    "p1"
   ]
  },
  {
   "cell_type": "code",
   "execution_count": 20,
   "metadata": {},
   "outputs": [
    {
     "data": {
      "image/png": "[encoded data removed]",
      "text/latex": [
       "$$\\frac{l}{4}$$"
      ],
      "text/plain": [
       "l\n",
       "─\n",
       "4"
      ]
     },
     "execution_count": 20,
     "metadata": {},
     "output_type": "execute_result"
    }
   ],
   "source": [
    "jacobian = ((xi + 1) / 4 * l).diff(xi)\n",
    "jacobian"
   ]
  },
  {
   "cell_type": "code",
   "execution_count": 52,
   "metadata": {},
   "outputs": [
    {
     "data": {
      "text/latex": [
       "$$\\left[\\begin{matrix}0 & - \\frac{l^{2} m \\omega^{2}}{12} & - \\frac{l^{2} m \\omega^{2}}{24}\\end{matrix}\\right]$$"
      ],
      "text/plain": [
       "⎡     2    2     2    2 ⎤\n",
       "⎢   -l ⋅m⋅ω    -l ⋅m⋅ω  ⎥\n",
       "⎢0  ─────────  ─────────⎥\n",
       "⎣       12         24   ⎦"
      ]
     },
     "execution_count": 52,
     "metadata": {},
     "output_type": "execute_result"
    }
   ],
   "source": [
    "P1 = integrate(N * p1 * jacobian, (xi, -1, 1))\n",
    "P1 = Matrix(P1)\n",
    "P1"
   ]
  },
  {
   "cell_type": "markdown",
   "metadata": {},
   "source": [
    "### 单元2荷载"
   ]
  },
  {
   "cell_type": "code",
   "execution_count": 27,
   "metadata": {},
   "outputs": [
    {
     "data": {
      "image/png": "[encoded data removed]",
      "text/latex": [
       "$$- l m \\omega^{2} \\left(\\frac{\\xi}{4} + \\frac{3}{4}\\right)$$"
      ],
      "text/plain": [
       "      2 ⎛ξ   3⎞\n",
       "-l⋅m⋅ω ⋅⎜─ + ─⎟\n",
       "        ⎝4   4⎠"
      ]
     },
     "execution_count": 27,
     "metadata": {},
     "output_type": "execute_result"
    }
   ],
   "source": [
    "p2 = p.subs({x: (xi+3)/4*l})\n",
    "p2"
   ]
  },
  {
   "cell_type": "code",
   "execution_count": 28,
   "metadata": {},
   "outputs": [
    {
     "data": {
      "image/png": "[encoded data removed]",
      "text/latex": [
       "$$\\frac{l}{4}$$"
      ],
      "text/plain": [
       "l\n",
       "─\n",
       "4"
      ]
     },
     "execution_count": 28,
     "metadata": {},
     "output_type": "execute_result"
    }
   ],
   "source": [
    "jacobian = ((xi + 3) / 4 * l).diff(xi)\n",
    "jacobian"
   ]
  },
  {
   "cell_type": "code",
   "execution_count": 51,
   "metadata": {},
   "outputs": [
    {
     "data": {
      "text/latex": [
       "$$\\left[\\begin{matrix}- \\frac{l^{2} m \\omega^{2}}{24} & - \\frac{l^{2} m \\omega^{2}}{4} & - \\frac{l^{2} m \\omega^{2}}{12}\\end{matrix}\\right]$$"
      ],
      "text/plain": [
       "⎡  2    2     2    2     2    2 ⎤\n",
       "⎢-l ⋅m⋅ω    -l ⋅m⋅ω    -l ⋅m⋅ω  ⎥\n",
       "⎢─────────  ─────────  ─────────⎥\n",
       "⎣    24         4          12   ⎦"
      ]
     },
     "execution_count": 51,
     "metadata": {},
     "output_type": "execute_result"
    }
   ],
   "source": [
    "P2 = integrate(N * p2 * jacobian, (xi, -1, 1))\n",
    "P2 = Matrix(P2)\n",
    "P2"
   ]
  },
  {
   "cell_type": "markdown",
   "metadata": {},
   "source": [
    "### 总荷载"
   ]
  },
  {
   "cell_type": "code",
   "execution_count": 77,
   "metadata": {},
   "outputs": [
    {
     "data": {
      "text/latex": [
       "$$\\left[\\begin{matrix}0 & - \\frac{l^{2} m \\omega^{2}}{12} & - \\frac{l^{2} m \\omega^{2}}{12} & - \\frac{l^{2} m \\omega^{2}}{4} & - \\frac{l^{2} m \\omega^{2}}{12}\\end{matrix}\\right]$$"
      ],
      "text/plain": [
       "⎡     2    2     2    2     2    2     2    2 ⎤\n",
       "⎢   -l ⋅m⋅ω    -l ⋅m⋅ω    -l ⋅m⋅ω    -l ⋅m⋅ω  ⎥\n",
       "⎢0  ─────────  ─────────  ─────────  ─────────⎥\n",
       "⎣       12         12         4          12   ⎦"
      ]
     },
     "execution_count": 77,
     "metadata": {},
     "output_type": "execute_result"
    }
   ],
   "source": [
    "P = zeros(1, 5)\n",
    "P[0, 0:3] += P1\n",
    "P[0, 2:5] += P2\n",
    "P"
   ]
  },
  {
   "cell_type": "markdown",
   "metadata": {},
   "source": [
    "## 位移"
   ]
  },
  {
   "cell_type": "code",
   "execution_count": 91,
   "metadata": {},
   "outputs": [
    {
     "data": {
      "text/latex": [
       "$$\\left[\\begin{matrix}- \\frac{l^{2} m \\omega^{2}}{12}\\\\- \\frac{l^{2} m \\omega^{2}}{12}\\\\- \\frac{l^{2} m \\omega^{2}}{4}\\\\- \\frac{l^{2} m \\omega^{2}}{12}\\end{matrix}\\right]$$"
      ],
      "text/plain": [
       "⎡  2    2 ⎤\n",
       "⎢-l ⋅m⋅ω  ⎥\n",
       "⎢─────────⎥\n",
       "⎢    12   ⎥\n",
       "⎢         ⎥\n",
       "⎢  2    2 ⎥\n",
       "⎢-l ⋅m⋅ω  ⎥\n",
       "⎢─────────⎥\n",
       "⎢    12   ⎥\n",
       "⎢         ⎥\n",
       "⎢  2    2 ⎥\n",
       "⎢-l ⋅m⋅ω  ⎥\n",
       "⎢─────────⎥\n",
       "⎢    4    ⎥\n",
       "⎢         ⎥\n",
       "⎢  2    2 ⎥\n",
       "⎢-l ⋅m⋅ω  ⎥\n",
       "⎢─────────⎥\n",
       "⎣    12   ⎦"
      ]
     },
     "execution_count": 91,
     "metadata": {},
     "output_type": "execute_result"
    }
   ],
   "source": [
    "Ptmp = P.copy()\n",
    "Ptmp.col_del(0)\n",
    "Ptmp = Ptmp.T\n",
    "Ptmp"
   ]
  },
  {
   "cell_type": "code",
   "execution_count": 94,
   "metadata": {},
   "outputs": [
    {
     "data": {
      "text/latex": [
       "$$\\left[\\begin{matrix}\\frac{16 A E}{3 l} & - \\frac{8 A E}{3 l} & 0 & 0\\\\- \\frac{8 A E}{3 l} & \\frac{14 A E}{3 l} & - \\frac{8 A E}{3 l} & \\frac{A E}{3 l}\\\\0 & - \\frac{8 A E}{3 l} & \\frac{16 A E}{3 l} & - \\frac{8 A E}{3 l}\\\\0 & \\frac{A E}{3 l} & - \\frac{8 A E}{3 l} & \\frac{7 A E}{3 l}\\end{matrix}\\right]$$"
      ],
      "text/plain": [
       "⎡16⋅A⋅E   -8⋅A⋅E                   ⎤\n",
       "⎢──────   ───────     0        0   ⎥\n",
       "⎢ 3⋅l       3⋅l                    ⎥\n",
       "⎢                                  ⎥\n",
       "⎢-8⋅A⋅E   14⋅A⋅E   -8⋅A⋅E     A⋅E  ⎥\n",
       "⎢───────  ──────   ───────    ───  ⎥\n",
       "⎢  3⋅l     3⋅l       3⋅l      3⋅l  ⎥\n",
       "⎢                                  ⎥\n",
       "⎢         -8⋅A⋅E   16⋅A⋅E   -8⋅A⋅E ⎥\n",
       "⎢   0     ───────  ──────   ───────⎥\n",
       "⎢           3⋅l     3⋅l       3⋅l  ⎥\n",
       "⎢                                  ⎥\n",
       "⎢           A⋅E    -8⋅A⋅E    7⋅A⋅E ⎥\n",
       "⎢   0       ───    ───────   ───── ⎥\n",
       "⎣           3⋅l      3⋅l      3⋅l  ⎦"
      ]
     },
     "execution_count": 94,
     "metadata": {},
     "output_type": "execute_result"
    }
   ],
   "source": [
    "Ktmp = K.copy()\n",
    "Ktmp.col_del(0)\n",
    "Ktmp.row_del(0)\n",
    "Ktmp"
   ]
  },
  {
   "cell_type": "code",
   "execution_count": 113,
   "metadata": {},
   "outputs": [
    {
     "data": {
      "text/latex": [
       "$$\\left[\\begin{matrix}0\\\\- \\frac{47 l^{3} m \\omega^{2}}{192 A E}\\\\- \\frac{11 l^{3} m \\omega^{2}}{24 A E}\\\\- \\frac{39 l^{3} m \\omega^{2}}{64 A E}\\\\- \\frac{2 l^{3} m \\omega^{2}}{3 A E}\\end{matrix}\\right]$$"
      ],
      "text/plain": [
       "⎡     0      ⎤\n",
       "⎢            ⎥\n",
       "⎢     3    2 ⎥\n",
       "⎢-47⋅l ⋅m⋅ω  ⎥\n",
       "⎢────────────⎥\n",
       "⎢  192⋅A⋅E   ⎥\n",
       "⎢            ⎥\n",
       "⎢     3    2 ⎥\n",
       "⎢-11⋅l ⋅m⋅ω  ⎥\n",
       "⎢────────────⎥\n",
       "⎢   24⋅A⋅E   ⎥\n",
       "⎢            ⎥\n",
       "⎢     3    2 ⎥\n",
       "⎢-39⋅l ⋅m⋅ω  ⎥\n",
       "⎢────────────⎥\n",
       "⎢   64⋅A⋅E   ⎥\n",
       "⎢            ⎥\n",
       "⎢    3    2  ⎥\n",
       "⎢-2⋅l ⋅m⋅ω   ⎥\n",
       "⎢─────────── ⎥\n",
       "⎣   3⋅A⋅E    ⎦"
      ]
     },
     "execution_count": 113,
     "metadata": {},
     "output_type": "execute_result"
    }
   ],
   "source": [
    "u = zeros(5, 1)\n",
    "u[1:, 0] = Ktmp.inv() * Ptmp\n",
    "u"
   ]
  },
  {
   "cell_type": "markdown",
   "metadata": {},
   "source": [
    "## 应力"
   ]
  },
  {
   "cell_type": "markdown",
   "metadata": {},
   "source": [
    "### 单元1应力"
   ]
  },
  {
   "cell_type": "code",
   "execution_count": 119,
   "metadata": {},
   "outputs": [
    {
     "data": {
      "image/png": "[encoded data removed]",
      "text/latex": [
       "$$\\frac{47 l^{3} m \\omega^{2} \\xi}{96} - \\frac{11 l^{3} m \\omega^{2} \\left(\\xi + \\frac{1}{2}\\right)}{24}$$"
      ],
      "text/plain": [
       "    3    2         3    2          \n",
       "47⋅l ⋅m⋅ω ⋅ξ   11⋅l ⋅m⋅ω ⋅(ξ + 1/2)\n",
       "──────────── - ────────────────────\n",
       "     96                 24         "
      ]
     },
     "execution_count": 119,
     "metadata": {},
     "output_type": "execute_result"
    }
   ],
   "source": [
    "sigma1 = S * u[0:3,0]\n",
    "sigma1 = sigma1[0]\n",
    "sigma1"
   ]
  },
  {
   "cell_type": "markdown",
   "metadata": {},
   "source": [
    "### 单元2应力"
   ]
  },
  {
   "cell_type": "code",
   "execution_count": 122,
   "metadata": {},
   "outputs": [
    {
     "data": {
      "image/png": "[encoded data removed]",
      "text/latex": [
       "$$\\frac{39 l^{3} m \\omega^{2} \\xi}{32} - \\frac{11 l^{3} m \\omega^{2} \\left(\\xi - \\frac{1}{2}\\right)}{24} - \\frac{2 l^{3} m \\omega^{2} \\left(\\xi + \\frac{1}{2}\\right)}{3}$$"
      ],
      "text/plain": [
       "    3    2         3    2                3    2          \n",
       "39⋅l ⋅m⋅ω ⋅ξ   11⋅l ⋅m⋅ω ⋅(ξ - 1/2)   2⋅l ⋅m⋅ω ⋅(ξ + 1/2)\n",
       "──────────── - ──────────────────── - ───────────────────\n",
       "     32                 24                     3         "
      ]
     },
     "execution_count": 122,
     "metadata": {},
     "output_type": "execute_result"
    }
   ],
   "source": [
    "sigma2 = S * u[2:5,0]\n",
    "sigma2 = sigma2[0]\n",
    "sigma2"
   ]
  },
  {
   "cell_type": "markdown",
   "metadata": {},
   "source": [
    "### 各点的应力"
   ]
  },
  {
   "cell_type": "code",
   "execution_count": 126,
   "metadata": {},
   "outputs": [
    {
     "data": {
      "text/latex": [
       "$$\\left[\\begin{matrix}- \\frac{25 l^{3} m \\omega^{2}}{96}\\\\- \\frac{11 l^{3} m \\omega^{2}}{48}\\\\- \\frac{19 l^{3} m \\omega^{2}}{96}\\\\- \\frac{5 l^{3} m \\omega^{2}}{48}\\\\- \\frac{l^{3} m \\omega^{2}}{96}\\end{matrix}\\right]$$"
      ],
      "text/plain": [
       "⎡     3    2 ⎤\n",
       "⎢-25⋅l ⋅m⋅ω  ⎥\n",
       "⎢────────────⎥\n",
       "⎢     96     ⎥\n",
       "⎢            ⎥\n",
       "⎢     3    2 ⎥\n",
       "⎢-11⋅l ⋅m⋅ω  ⎥\n",
       "⎢────────────⎥\n",
       "⎢     48     ⎥\n",
       "⎢            ⎥\n",
       "⎢     3    2 ⎥\n",
       "⎢-19⋅l ⋅m⋅ω  ⎥\n",
       "⎢────────────⎥\n",
       "⎢     96     ⎥\n",
       "⎢            ⎥\n",
       "⎢    3    2  ⎥\n",
       "⎢-5⋅l ⋅m⋅ω   ⎥\n",
       "⎢─────────── ⎥\n",
       "⎢     48     ⎥\n",
       "⎢            ⎥\n",
       "⎢   3    2   ⎥\n",
       "⎢ -l ⋅m⋅ω    ⎥\n",
       "⎢ ─────────  ⎥\n",
       "⎣     96     ⎦"
      ]
     },
     "execution_count": 126,
     "metadata": {},
     "output_type": "execute_result"
    }
   ],
   "source": [
    "sigma = Matrix([\n",
    "    sigma1.subs({xi: -1}),\n",
    "    sigma1.subs({xi: 0}),\n",
    "    sigma1.subs({xi: 1}),\n",
    "    sigma2.subs({xi: 0}),\n",
    "    sigma2.subs({xi: 1}),\n",
    "])\n",
    "sigma"
   ]
  }
 ],
 "metadata": {
  "kernelspec": {
   "display_name": "Python 3",
   "language": "python",
   "name": "python3"
  },
  "language_info": {
   "codemirror_mode": {
    "name": "ipython",
    "version": 3
   },
   "file_extension": ".py",
   "mimetype": "text/x-python",
   "name": "python",
   "nbconvert_exporter": "python",
   "pygments_lexer": "ipython3",
   "version": "3.7.2"
  }
 },
 "nbformat": 4,
 "nbformat_minor": 1
}
