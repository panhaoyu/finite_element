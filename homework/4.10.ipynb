{
 "cells": [
  {
   "cell_type": "markdown",
   "metadata": {
    "collapsed": true
   },
   "source": [
    "# 4.10\n",
    "二维4结点等参元，\n",
    "在x,y坐标中单元各边与坐标轴x,y平行，\n",
    "边长为a,b，\n",
    "确定下列载荷情况下的结点载荷。"
   ]
  },
  {
   "cell_type": "markdown",
   "metadata": {},
   "source": [
    "## 情况1\n",
    "在x正方向有一分布载荷作用在$\\xi=1$的边上，载荷在$\\eta=-1$为0，在$\\eta=1$为$q_0$，呈线性变化。"
   ]
  }
 ],
 "metadata": {
  "kernelspec": {
   "display_name": "Python 3",
   "language": "python",
   "name": "python3"
  },
  "language_info": {
   "codemirror_mode": {
    "name": "ipython",
    "version": 3
   },
   "file_extension": ".py",
   "mimetype": "text/x-python",
   "name": "python",
   "nbconvert_exporter": "python",
   "pygments_lexer": "ipython3",
   "version": "3.7.1"
  }
 },
 "nbformat": 4,
 "nbformat_minor": 1
}
