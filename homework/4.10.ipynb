{
 "cells": [
  {
   "cell_type": "markdown",
   "metadata": {
    "collapsed": true
   },
   "source": [
    "# 4.10\n",
    "二维4结点等参元，\n",
    "在x,y坐标中单元各边与坐标轴x,y平行，\n",
    "边长为a,b，\n",
    "确定下列载荷情况下的结点载荷。"
   ]
  },
  {
   "cell_type": "code",
   "execution_count": 1,
   "metadata": {},
   "outputs": [],
   "source": [
    "import sympy\n",
    "import finite_element\n",
    "from sympy import *\n",
    "from sympy.abc import *\n",
    "sympy.init_printing()"
   ]
  },
  {
   "cell_type": "markdown",
   "metadata": {},
   "source": [
    "求位移插值函数"
   ]
  },
  {
   "cell_type": "code",
   "execution_count": 2,
   "metadata": {},
   "outputs": [
    {
     "data": {
      "text/latex": [
       "$$\\left[\\begin{matrix}\\frac{\\left(\\eta + 1\\right) \\left(\\xi + 1\\right)}{4} & 0 & - \\frac{\\left(\\eta + 1\\right) \\left(\\xi - 1\\right)}{4} & 0 & \\frac{\\left(\\eta - 1\\right) \\left(\\xi - 1\\right)}{4} & 0 & - \\frac{\\left(\\eta - 1\\right) \\left(\\xi + 1\\right)}{4} & 0\\\\0 & \\frac{\\left(\\eta + 1\\right) \\left(\\xi + 1\\right)}{4} & 0 & - \\frac{\\left(\\eta + 1\\right) \\left(\\xi - 1\\right)}{4} & 0 & \\frac{\\left(\\eta - 1\\right) \\left(\\xi - 1\\right)}{4} & 0 & - \\frac{\\left(\\eta - 1\\right) \\left(\\xi + 1\\right)}{4}\\end{matrix}\\right]$$"
      ],
      "text/plain": [
       "⎡(η + 1)⋅(ξ + 1)                   -(η + 1)⋅(ξ - 1)                      (η - \n",
       "⎢───────────────         0         ─────────────────          0          ─────\n",
       "⎢       4                                  4                                  \n",
       "⎢                                                                             \n",
       "⎢                 (η + 1)⋅(ξ + 1)                     -(η + 1)⋅(ξ - 1)        \n",
       "⎢       0         ───────────────          0          ─────────────────       \n",
       "⎣                        4                                    4               \n",
       "\n",
       "1)⋅(ξ - 1)                   -(η - 1)⋅(ξ + 1)                    ⎤\n",
       "──────────         0         ─────────────────          0        ⎥\n",
       "  4                                  4                           ⎥\n",
       "                                                                 ⎥\n",
       "            (η - 1)⋅(ξ - 1)                     -(η - 1)⋅(ξ + 1) ⎥\n",
       "  0         ───────────────          0          ─────────────────⎥\n",
       "                   4                                    4        ⎦"
      ]
     },
     "execution_count": 2,
     "metadata": {},
     "output_type": "execute_result"
    }
   ],
   "source": [
    "surface_exclude = finite_element.interpolation.SurfaceExclude([xi, eta])\n",
    "surface_exclude.add_surface(xi + 1)\n",
    "surface_exclude.add_surface(xi - 1)\n",
    "surface_exclude.add_surface(eta + 1)\n",
    "surface_exclude.add_surface(eta - 1)\n",
    "coordinates = [\n",
    "    (1,1), (-1,1), (-1,-1), (1,-1),\n",
    "]\n",
    "serendipity = finite_element.interpolation.Serendipity([xi, eta])\n",
    "[serendipity.add_formula(surface_exclude.get_interpolation_function(coordinate), coordinate)\n",
    " for coordinate in coordinates]\n",
    "interpolation_functions = [Matrix([[1,0],[0,1]])*f for f in serendipity.formulas]\n",
    "interpolation_functions = Matrix(interpolation_functions)\n",
    "interpolation_functions.T"
   ]
  },
  {
   "cell_type": "code",
   "execution_count": 3,
   "metadata": {},
   "outputs": [
    {
     "data": {
      "text/latex": [
       "$$\\left[\\begin{matrix}\\frac{a}{2} & - \\frac{a}{2} & - \\frac{a}{2} & \\frac{a}{2}\\\\\\frac{b}{2} & \\frac{b}{2} & - \\frac{b}{2} & - \\frac{b}{2}\\end{matrix}\\right]$$"
      ],
      "text/plain": [
       "⎡a  -a   -a    a ⎤\n",
       "⎢─  ───  ───   ─ ⎥\n",
       "⎢2   2    2    2 ⎥\n",
       "⎢                ⎥\n",
       "⎢b   b   -b   -b ⎥\n",
       "⎢─   ─   ───  ───⎥\n",
       "⎣2   2    2    2 ⎦"
      ]
     },
     "execution_count": 3,
     "metadata": {},
     "output_type": "execute_result"
    }
   ],
   "source": [
    "global_coordinates = [\n",
    "    (a/2, b/2),\n",
    "    (-a/2, b/2),\n",
    "    (-a/2, -b/2),\n",
    "    (a/2, -b/2),\n",
    "]\n",
    "Matrix(global_coordinates).T"
   ]
  },
  {
   "cell_type": "markdown",
   "metadata": {},
   "source": [
    "计算等参元坐标插值函数"
   ]
  },
  {
   "cell_type": "code",
   "execution_count": 4,
   "metadata": {},
   "outputs": [
    {
     "data": {
      "image/png": "[encoded data removed]",
      "text/latex": [
       "$$\\left ( \\frac{a \\xi}{2}, \\quad \\frac{b \\eta}{2}, \\quad \\zeta\\right )$$"
      ],
      "text/plain": [
       "⎛a⋅ξ  b⋅η   ⎞\n",
       "⎜───, ───, ζ⎟\n",
       "⎝ 2    2    ⎠"
      ]
     },
     "execution_count": 4,
     "metadata": {},
     "output_type": "execute_result"
    }
   ],
   "source": [
    "isoparametric = finite_element.interpolation.Isoparametric(\n",
    "    local_axises=[xi,eta],\n",
    "    global_axises=[x,y],\n",
    "    interpolation_functions=serendipity.formulas,\n",
    "    coordinates=global_coordinates,\n",
    ")\n",
    "x, y = isoparametric.coordinate_interpolation_functions\n",
    "z = zeta\n",
    "x, y, z"
   ]
  },
  {
   "cell_type": "code",
   "execution_count": 5,
   "metadata": {},
   "outputs": [],
   "source": [
    "b0 = Symbol('b_0')\n",
    "q0 = Symbol('q_0')"
   ]
  },
  {
   "cell_type": "markdown",
   "metadata": {},
   "source": [
    "计算$jacobian$和$A$两个变换矩阵。"
   ]
  },
  {
   "cell_type": "code",
   "execution_count": 6,
   "metadata": {},
   "outputs": [
    {
     "data": {
      "image/png": "[encoded data removed]",
      "text/latex": [
       "$$\\frac{\\sqrt{b^{2}}}{2}$$"
      ],
      "text/plain": [
       "   ____\n",
       "  ╱  2 \n",
       "╲╱  b  \n",
       "───────\n",
       "   2   "
      ]
     },
     "execution_count": 6,
     "metadata": {},
     "output_type": "execute_result"
    }
   ],
   "source": [
    "A = sqrt(\n",
    "    (y.diff(eta) * z.diff(zeta) - y.diff(zeta) * z.diff(eta)) ** 2 +\n",
    "    (z.diff(eta) * x.diff(zeta) - z.diff(zeta) * x.diff(eta)) ** 2 +\n",
    "    (x.diff(eta) * y.diff(zeta) - x.diff(zeta) * y.diff(eta)) ** 2\n",
    ")\n",
    "A"
   ]
  },
  {
   "cell_type": "code",
   "execution_count": 7,
   "metadata": {},
   "outputs": [
    {
     "data": {
      "image/png": "[encoded data removed]",
      "text/latex": [
       "$$\\frac{a b}{4}$$"
      ],
      "text/plain": [
       "a⋅b\n",
       "───\n",
       " 4 "
      ]
     },
     "execution_count": 7,
     "metadata": {},
     "output_type": "execute_result"
    }
   ],
   "source": [
    "jacobian = Matrix([\n",
    "    [x.diff(xi), y.diff(xi), z.diff(xi)],\n",
    "    [x.diff(eta), y.diff(eta), z.diff(eta)],\n",
    "    [x.diff(zeta), y.diff(zeta), z.diff(zeta)],    \n",
    "]).det()\n",
    "jacobian"
   ]
  },
  {
   "cell_type": "markdown",
   "metadata": {},
   "source": [
    "手动调整一下A的值。"
   ]
  },
  {
   "cell_type": "code",
   "execution_count": 8,
   "metadata": {},
   "outputs": [
    {
     "data": {
      "image/png": "[encoded data removed]",
      "text/latex": [
       "$$\\frac{b}{2}$$"
      ],
      "text/plain": [
       "b\n",
       "─\n",
       "2"
      ]
     },
     "execution_count": 8,
     "metadata": {},
     "output_type": "execute_result"
    }
   ],
   "source": [
    "A = b / 2\n",
    "A"
   ]
  },
  {
   "cell_type": "markdown",
   "metadata": {},
   "source": [
    "## 情况1\n",
    "在x正方向有一分布载荷作用在$\\xi=1$的边上，载荷在$\\eta=-1$为0，在$\\eta=1$为$q_0$，呈线性变化。"
   ]
  },
  {
   "cell_type": "markdown",
   "metadata": {},
   "source": [
    "荷载"
   ]
  },
  {
   "cell_type": "code",
   "execution_count": 9,
   "metadata": {},
   "outputs": [
    {
     "data": {
      "text/latex": [
       "$$\\left[\\begin{matrix}\\frac{\\eta q_{0}}{2} + \\frac{q_{0}}{2} & 0\\end{matrix}\\right]$$"
      ],
      "text/plain": [
       "⎡η⋅q₀   q₀   ⎤\n",
       "⎢──── + ──  0⎥\n",
       "⎣ 2     2    ⎦"
      ]
     },
     "execution_count": 9,
     "metadata": {},
     "output_type": "execute_result"
    }
   ],
   "source": [
    "load = Matrix([q0/2+q0*eta/2,0])\n",
    "load.T"
   ]
  },
  {
   "cell_type": "markdown",
   "metadata": {},
   "source": [
    "积分"
   ]
  },
  {
   "cell_type": "code",
   "execution_count": 10,
   "metadata": {},
   "outputs": [
    {
     "data": {
      "text/latex": [
       "$$\\left[\\begin{matrix}\\frac{b q_{0}}{3} & 0 & 0 & 0 & 0 & 0 & \\frac{b q_{0}}{6} & 0\\end{matrix}\\right]$$"
      ],
      "text/plain": [
       "⎡b⋅q₀                 b⋅q₀   ⎤\n",
       "⎢────  0  0  0  0  0  ────  0⎥\n",
       "⎣ 3                    6     ⎦"
      ]
     },
     "execution_count": 10,
     "metadata": {},
     "output_type": "execute_result"
    }
   ],
   "source": [
    "integrate(interpolation_functions * load * A, (eta, -1, 1)).subs({xi: 1}).T"
   ]
  },
  {
   "cell_type": "markdown",
   "metadata": {},
   "source": [
    "## 情况2"
   ]
  },
  {
   "cell_type": "markdown",
   "metadata": {},
   "source": [
    "在$\\xi=1$边上作用有均布载荷$q_0$，方向压向单元。"
   ]
  },
  {
   "cell_type": "code",
   "execution_count": 11,
   "metadata": {},
   "outputs": [
    {
     "data": {
      "text/latex": [
       "$$\\left[\\begin{matrix}- q_{0} & 0\\end{matrix}\\right]$$"
      ],
      "text/plain": [
       "[-q₀  0]"
      ]
     },
     "execution_count": 11,
     "metadata": {},
     "output_type": "execute_result"
    }
   ],
   "source": [
    "load = Matrix([-q0, 0])\n",
    "load.T"
   ]
  },
  {
   "cell_type": "code",
   "execution_count": 12,
   "metadata": {},
   "outputs": [
    {
     "data": {
      "text/latex": [
       "$$\\left[\\begin{matrix}- \\frac{b q_{0}}{2} & 0 & 0 & 0 & 0 & 0 & - \\frac{b q_{0}}{2} & 0\\end{matrix}\\right]$$"
      ],
      "text/plain": [
       "⎡-b⋅q₀                  -b⋅q₀    ⎤\n",
       "⎢──────  0  0  0  0  0  ──────  0⎥\n",
       "⎣  2                      2      ⎦"
      ]
     },
     "execution_count": 12,
     "metadata": {},
     "output_type": "execute_result"
    }
   ],
   "source": [
    "integrate(interpolation_functions * load * A, (eta, -1, 1)).subs({xi: 1}).T"
   ]
  },
  {
   "cell_type": "markdown",
   "metadata": {},
   "source": [
    "## 情况3"
   ]
  },
  {
   "cell_type": "markdown",
   "metadata": {},
   "source": [
    "在$y$正方向作用有均布的体积力$b_0$。"
   ]
  },
  {
   "cell_type": "code",
   "execution_count": 15,
   "metadata": {},
   "outputs": [
    {
     "data": {
      "text/latex": [
       "$$\\left[\\begin{matrix}0 & b_{0}\\end{matrix}\\right]$$"
      ],
      "text/plain": [
       "[0  b₀]"
      ]
     },
     "execution_count": 15,
     "metadata": {},
     "output_type": "execute_result"
    }
   ],
   "source": [
    "load = Matrix([0, b0])\n",
    "load.T"
   ]
  },
  {
   "cell_type": "code",
   "execution_count": 14,
   "metadata": {},
   "outputs": [
    {
     "data": {
      "text/latex": [
       "$$\\left[\\begin{matrix}0 & \\frac{a b b_{0}}{4} & 0 & \\frac{a b b_{0}}{4} & 0 & \\frac{a b b_{0}}{4} & 0 & \\frac{a b b_{0}}{4}\\end{matrix}\\right]$$"
      ],
      "text/plain": [
       "⎡   a⋅b⋅b₀     a⋅b⋅b₀     a⋅b⋅b₀     a⋅b⋅b₀⎤\n",
       "⎢0  ──────  0  ──────  0  ──────  0  ──────⎥\n",
       "⎣     4          4          4          4   ⎦"
      ]
     },
     "execution_count": 14,
     "metadata": {},
     "output_type": "execute_result"
    }
   ],
   "source": [
    "integrate(integrate(interpolation_functions * load * jacobian, (eta, -1, 1)), (xi, -1, 1)).T"
   ]
  }
 ],
 "metadata": {
  "kernelspec": {
   "display_name": "Python 3",
   "language": "python",
   "name": "python3"
  },
  "language_info": {
   "codemirror_mode": {
    "name": "ipython",
    "version": 3
   },
   "file_extension": ".py",
   "mimetype": "text/x-python",
   "name": "python",
   "nbconvert_exporter": "python",
   "pygments_lexer": "ipython3",
   "version": "3.7.2"
  }
 },
 "nbformat": 4,
 "nbformat_minor": 1
}
